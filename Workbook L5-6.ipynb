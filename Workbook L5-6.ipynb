{
 "cells": [
  {
   "cell_type": "markdown",
   "id": "959cc6b1",
   "metadata": {},
   "source": [
    "# Workbook 5\n",
    "# Programming Terminology. Debugging\n",
    "# More conditionals\n",
    "# Combining conditions"
   ]
  },
  {
   "cell_type": "markdown",
   "id": "9fb2d95e",
   "metadata": {},
   "source": [
    "### Exercise 1 (1 point)"
   ]
  },
  {
   "cell_type": "markdown",
   "id": "c50c250e",
   "metadata": {},
   "source": [
    "__Fix the syntax.__ The following program contains several errors. \n",
    "Please fix the program so that the syntax is correct and the program works as specified by the examples below."
   ]
  },
  {
   "cell_type": "markdown",
   "id": "8db58652",
   "metadata": {},
   "source": [
    "For example, if the program input is given the following lines:"
   ]
  },
  {
   "cell_type": "markdown",
   "id": "dd595de0",
   "metadata": {},
   "source": [
    "``` python\n",
    "number = input(\"Please type in a number: \")\n",
    "  if number>100\n",
    "    print(\"The number was greater than one hundred\")\n",
    "    number - 100\n",
    "    print(\"Now its value has decreased by one hundred)\n",
    "     print(\"Its value is now\"+ number)\n",
    " print(number + \" must be my lucky number!\")\n",
    " print(\"Have a nice day!)\n",
    "```"
   ]
  },
  {
   "cell_type": "markdown",
   "id": "aef2abe3",
   "metadata": {},
   "source": [
    "Example 1\n",
    "```\n",
    "Please type in a number: 13\n",
    "13 must be my lucky number!\n",
    "Have a nice day!\n",
    "```"
   ]
  },
  {
   "cell_type": "markdown",
   "id": "e0a323f8",
   "metadata": {},
   "source": [
    "Example 2\n",
    "``` \n",
    "Please type in a number: 101\n",
    "The number was greater than one hundred\n",
    "Now its value has decreased by one hundred\n",
    "Its value is now 1\n",
    "1 must be my lucky number!\n",
    "Have a nice day!\n",
    "```"
   ]
  },
  {
   "cell_type": "markdown",
   "id": "e5730dec",
   "metadata": {},
   "source": [
    "### Exercise 2 (3 points)"
   ]
  },
  {
   "cell_type": "markdown",
   "id": "489ff052",
   "metadata": {},
   "source": [
    "__Number of characters__. The function ```len``` can be used to find out the length of a string, among other things.\n",
    "The function returns the number of characters in a string.\n",
    "\n",
    "Some examples of how this works:"
   ]
  },
  {
   "cell_type": "markdown",
   "id": "68d7e52b",
   "metadata": {},
   "source": [
    "``` python\n",
    "word = \"abcd\"\n",
    "print(len(word))\n",
    "\n",
    "print(len(\"hi there\"))\n",
    "\n",
    "word2 = \"howdydoody\"\n",
    "length = len(word2)\n",
    "print(length)\n",
    "\n",
    "empty_string = \"\"\n",
    "length = len(empty_string)\n",
    "print(length)\n",
    "```"
   ]
  },
  {
   "cell_type": "markdown",
   "id": "9c4acfe1",
   "metadata": {},
   "source": [
    "```\n",
    "4\n",
    "8\n",
    "10\n",
    "0\n",
    "```"
   ]
  },
  {
   "cell_type": "markdown",
   "id": "180191e9",
   "metadata": {},
   "source": [
    "Please write a program which asks the user for a word and then prints out the number of characters, if there was more than one character typed in.\n",
    "\n",
    "Examples of expected behaviour:"
   ]
  },
  {
   "cell_type": "markdown",
   "id": "5e584b3b",
   "metadata": {},
   "source": [
    "```\n",
    "Please type in a word: hey\n",
    "There are 3 letters in the word hey\n",
    "Thank you!\n",
    "```"
   ]
  },
  {
   "cell_type": "markdown",
   "id": "8d60f3bc",
   "metadata": {},
   "source": [
    "```\n",
    "Please type in a word: banana\n",
    "There are 6 letters in the word banana\n",
    "Thank you!\n",
    "```"
   ]
  },
  {
   "cell_type": "markdown",
   "id": "7f071fed",
   "metadata": {},
   "source": [
    "```\n",
    "Please type in a word: b\n",
    "Thank you!\n",
    "```"
   ]
  },
  {
   "cell_type": "markdown",
   "id": "ccbcb92f",
   "metadata": {},
   "source": [
    "### Exercise 3 (3 points)"
   ]
  },
  {
   "cell_type": "markdown",
   "id": "fa25f5aa",
   "metadata": {},
   "source": [
    "__Typecasting__. When programming in Python, often we need to change the data type of a value. \n",
    "\n",
    "For example, a floating point number can be converted into an integer with the function int:"
   ]
  },
  {
   "cell_type": "markdown",
   "id": "0c74fde4",
   "metadata": {},
   "source": [
    "```python\n",
    "temperature = float(input(\"Please type in a temperature: \"))\n",
    "\n",
    "print(\"The temperature is\", temperature)\n",
    "\n",
    "print(\"...and rounded down it is\", int(temperature))\n",
    "```"
   ]
  },
  {
   "cell_type": "markdown",
   "id": "d0eed4e4",
   "metadata": {},
   "source": [
    "```\n",
    "Please type in a temperature: 5.15\n",
    "The temperature is 5.15\n",
    "...and rounded down it is 5\n",
    "```"
   ]
  },
  {
   "cell_type": "markdown",
   "id": "171b6675",
   "metadata": {},
   "source": [
    "Notice the function always rounds down, and not according to the rounding rules of mathematics. \n",
    "\n",
    "This is an example of a floor function."
   ]
  },
  {
   "cell_type": "markdown",
   "id": "29d81be4",
   "metadata": {},
   "source": [
    "```\n",
    "Please type in a temperature: 8.99\n",
    "The temperature is 8.99\n",
    "...and rounded down it is 8\n",
    "```"
   ]
  },
  {
   "cell_type": "markdown",
   "id": "ac73031b",
   "metadata": {},
   "source": [
    "Please write a program which asks the user for a floating point number and then prints out the integer part and the decimal part separately. Use the Python int function.\n",
    "\n",
    "You can assume the number given by the user is __always greater than zero.__\n",
    "\n",
    "An example of the expected behaviour:"
   ]
  },
  {
   "cell_type": "markdown",
   "id": "3af4380e",
   "metadata": {},
   "source": [
    "```\n",
    "Please type in a number: 1.34\n",
    "Integer part: 1\n",
    "Decimal part: 0.34\n",
    "```"
   ]
  },
  {
   "cell_type": "markdown",
   "id": "1615b858",
   "metadata": {},
   "source": [
    "### Exercise 4 (2 points)"
   ]
  },
  {
   "cell_type": "markdown",
   "id": "2f45bef7",
   "metadata": {},
   "source": [
    "__Age of maturity__ Please write a program which asks the user for their age. \n",
    "\n",
    "The program should then print out a message based on whether the user is of age or not, using 18 as the age of maturity.\n",
    "\n",
    "Some examples of expected behaviour:"
   ]
  },
  {
   "cell_type": "markdown",
   "id": "bf2969c2",
   "metadata": {},
   "source": [
    "```\n",
    "How old are you? 12\n",
    "You are not of age!\n",
    "```"
   ]
  },
  {
   "cell_type": "markdown",
   "id": "e0f80685",
   "metadata": {},
   "source": [
    "```\n",
    "How old are you? 32\n",
    "You are of age!\n",
    "```"
   ]
  },
  {
   "cell_type": "markdown",
   "id": "0923cd22",
   "metadata": {},
   "source": [
    "### Exercise 5 (3 points)"
   ]
  },
  {
   "cell_type": "markdown",
   "id": "9279313d",
   "metadata": {},
   "source": [
    "__Greater than or equal to__. Please write a program which asks for two integer numbers. The program should then print out whichever is greater. If the numbers are equal, the program should print a message saying so.\n",
    "\n",
    "Some examples of expected behaviour:"
   ]
  },
  {
   "cell_type": "markdown",
   "id": "28f5b670",
   "metadata": {},
   "source": [
    "```\n",
    "Please type in the first number: 5\n",
    "Please type in another number: 3\n",
    "The greater number was: 5\n",
    "```"
   ]
  },
  {
   "cell_type": "markdown",
   "id": "f6d5dd06",
   "metadata": {},
   "source": [
    "```\n",
    "Please type in the first number:: 5\n",
    "Please type in another number: 8\n",
    "The greater number was: 8\n",
    "```"
   ]
  },
  {
   "cell_type": "markdown",
   "id": "7f4122fc",
   "metadata": {},
   "source": [
    "```\n",
    "Please type in the first number: 5\n",
    "Please type in another number: 5\n",
    "The numbers are equal!\n",
    "```"
   ]
  },
  {
   "cell_type": "markdown",
   "id": "43d3e773",
   "metadata": {},
   "source": [
    "### Exercise 6 (4 points)"
   ]
  },
  {
   "cell_type": "markdown",
   "id": "1677a2ad",
   "metadata": {},
   "source": [
    "__The elder__. Please write a program which asks for the names and ages of two persons. The program should then print out the name of the elder.\n",
    "\n",
    "Some examples of expected behaviour:\n"
   ]
  },
  {
   "cell_type": "markdown",
   "id": "4f3c34ee",
   "metadata": {},
   "source": [
    "```\n",
    "Person 1:\n",
    "Name: Alan\n",
    "Age: 26\n",
    "Person 2:\n",
    "Name: Ada\n",
    "Age: 27\n",
    "The elder is Ada\n",
    "```"
   ]
  },
  {
   "cell_type": "markdown",
   "id": "b90684a8",
   "metadata": {},
   "source": [
    "```\n",
    "Person 1:\n",
    "Name: Bill\n",
    "Age: 1\n",
    "Person 2:\n",
    "Name: Jean\n",
    "Age: 1\n",
    "Bill and Jean are the same age\n",
    "```"
   ]
  },
  {
   "cell_type": "markdown",
   "id": "55085c8a",
   "metadata": {},
   "source": [
    "### Exercise 7 (3 points)"
   ]
  },
  {
   "cell_type": "markdown",
   "id": "3bb4f554",
   "metadata": {},
   "source": [
    "__Age check__ \n",
    "Please write a program which asks for the user's age. If the age is not plausible, that is, if it is under 5 or something that can't be an actual human age, the program should print out a related comment.\n",
    "\n",
    "Have a look at the examples of expected behaviour below to figure out which comment is applicable in each case."
   ]
  },
  {
   "cell_type": "markdown",
   "id": "53009fd6",
   "metadata": {},
   "source": [
    "```\n",
    "What is your age? 13\n",
    "Ok, you're 13 years old\n",
    "```"
   ]
  },
  {
   "cell_type": "markdown",
   "id": "1e4a336a",
   "metadata": {},
   "source": [
    "```\n",
    "What is your age? 2\n",
    "I suspect you can't write quite yet...\n",
    "```"
   ]
  },
  {
   "cell_type": "markdown",
   "id": "dbed8a42",
   "metadata": {},
   "source": [
    "```\n",
    "What is your age? -4\n",
    "That must be a mistake\n",
    "```"
   ]
  },
  {
   "cell_type": "markdown",
   "id": "376596dd",
   "metadata": {},
   "source": [
    "### Exercise 8 (3 points)"
   ]
  },
  {
   "cell_type": "markdown",
   "id": "87bf5cb2",
   "metadata": {},
   "source": [
    "__Nephews__"
   ]
  },
  {
   "cell_type": "markdown",
   "id": "2080b096",
   "metadata": {},
   "source": [
    "Please write a program which asks for the user's name. \n",
    "\n",
    "If the name is __Huey__, __Dewey__, or __Louie__, the program should recognise the user as one of Donald Duck's nephews.\n",
    "\n",
    "In a similar fashion, if the name is __Morty__ or __Ferdie__, the program should recognise the user as one of Mickey Mouse's nephews.\n",
    "\n",
    "Some examples:\n",
    "\n"
   ]
  },
  {
   "cell_type": "markdown",
   "id": "70cd6125",
   "metadata": {},
   "source": [
    "```\n",
    "Please type in your name: Morty\n",
    "I think you might be one of Mickey Mouse's nephews.\n",
    "```"
   ]
  },
  {
   "cell_type": "markdown",
   "id": "3b06d613",
   "metadata": {},
   "source": [
    "```\n",
    "Please type in your name: Huey\n",
    "I think you might be one of Donald Duck's nephews.\n",
    "```"
   ]
  },
  {
   "cell_type": "markdown",
   "id": "d477e4ce",
   "metadata": {},
   "source": [
    "```\n",
    "Please type in your name: Ken\n",
    "You're not a nephew of any character I know of.\n",
    "```"
   ]
  },
  {
   "cell_type": "markdown",
   "id": "ac04424d",
   "metadata": {},
   "source": [
    "### Exercise 9 (4 points)"
   ]
  },
  {
   "cell_type": "markdown",
   "id": "e66a3a57",
   "metadata": {},
   "source": [
    "__Grades and points__"
   ]
  },
  {
   "cell_type": "markdown",
   "id": "89ddc933",
   "metadata": {},
   "source": [
    "The table below outlines the grade boundaries on a certain university course. \n",
    "\n",
    "Please write a program which asks for the amount of points received and then prints out the grade attained according to the table."
   ]
  },
  {
   "cell_type": "markdown",
   "id": "1bd1b63d",
   "metadata": {},
   "source": [
    "|points               | grade             |\n",
    "|:------------------  |:------------------|\n",
    "|< 0|impossible!|\n",
    "|0 - 49|fail|\n",
    "|50 - 59|1|\n",
    "|60 - 69|2|\n",
    "|70 - 79|3|\n",
    "|80 - 89|4|\n",
    "|90 - 100|5|\n",
    "|>100|impossible!|"
   ]
  },
  {
   "cell_type": "markdown",
   "id": "0b5a15fd",
   "metadata": {},
   "source": [
    "Some examples:"
   ]
  },
  {
   "cell_type": "markdown",
   "id": "8e2fa5db",
   "metadata": {},
   "source": [
    "```\n",
    "How many points [0-100]: 37\n",
    "Grade: fail\n",
    "```"
   ]
  },
  {
   "cell_type": "markdown",
   "id": "e3fbf476",
   "metadata": {},
   "source": [
    "```\n",
    "How many points [0-100]: 76\n",
    "Grade: 3\n",
    "```"
   ]
  },
  {
   "cell_type": "markdown",
   "id": "079343a2",
   "metadata": {},
   "source": [
    "```\n",
    "How many points [0-100]: -3\n",
    "Grade: impossible!\n",
    "```"
   ]
  },
  {
   "cell_type": "markdown",
   "id": "1c871155",
   "metadata": {},
   "source": [
    "### Exercise 10 (4 points)"
   ]
  },
  {
   "cell_type": "markdown",
   "id": "80f922c3",
   "metadata": {},
   "source": [
    "\n",
    "Please write a program which asks the user for an integer number. If the number is divisible by three, the program should print out Fizz. If the number is divisible by five, the program should print out Buzz. If the number is divisible by both three and five, the program should print out FizzBuzz.  Otherwise the program should print the number.\n",
    "\n",
    "Some examples of expected behaviour:\n"
   ]
  },
  {
   "cell_type": "markdown",
   "id": "3007b953",
   "metadata": {},
   "source": [
    "```\n",
    "Number: 9\n",
    "Fizz\n",
    "```"
   ]
  },
  {
   "cell_type": "markdown",
   "id": "1bda4c84",
   "metadata": {},
   "source": [
    "```\n",
    "Number: 7\n",
    "7\n",
    "```"
   ]
  },
  {
   "cell_type": "markdown",
   "id": "93268473",
   "metadata": {},
   "source": [
    "```\n",
    "Number: 20\n",
    "Buzz\n",
    "```"
   ]
  },
  {
   "cell_type": "markdown",
   "id": "9dfd302d",
   "metadata": {},
   "source": [
    "```\n",
    "Number: 45\n",
    "FizzBuzz\n",
    "```"
   ]
  }
 ],
 "metadata": {
  "kernelspec": {
   "display_name": "Python 3 (ipykernel)",
   "language": "python",
   "name": "python3"
  },
  "language_info": {
   "codemirror_mode": {
    "name": "ipython",
    "version": 3
   },
   "file_extension": ".py",
   "mimetype": "text/x-python",
   "name": "python",
   "nbconvert_exporter": "python",
   "pygments_lexer": "ipython3",
   "version": "3.10.9"
  }
 },
 "nbformat": 4,
 "nbformat_minor": 5
}
