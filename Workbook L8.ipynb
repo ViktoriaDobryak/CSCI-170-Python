{
 "cells": [
  {
   "cell_type": "markdown",
   "id": "959cc6b1",
   "metadata": {},
   "source": [
    "# Workbook 8\n",
    "# Simple loops\n",
    "# Loops and helper variables"
   ]
  },
  {
   "cell_type": "markdown",
   "id": "9fb2d95e",
   "metadata": {},
   "source": [
    "### Exercise 1 (1 point)"
   ]
  },
  {
   "cell_type": "markdown",
   "id": "c50c250e",
   "metadata": {},
   "source": [
    "__Fix the code: Countdown.__ This program should print out a countdown. The code is as follows:"
   ]
  },
  {
   "cell_type": "markdown",
   "id": "dd595de0",
   "metadata": {},
   "source": [
    "``` python\n",
    "number = 5\n",
    "print(\"Countdown!\")\n",
    "while True:\n",
    "  print(number)\n",
    "  number = number - 1\n",
    "  if number > 0:\n",
    "    break\n",
    "\n",
    "print(\"Now!\")\n",
    "```"
   ]
  },
  {
   "cell_type": "markdown",
   "id": "aef2abe3",
   "metadata": {},
   "source": [
    "This should print out\n",
    "```\n",
    "Countdown!\n",
    "5\n",
    "4\n",
    "3\n",
    "2\n",
    "1\n",
    "Now!\n",
    "```"
   ]
  },
  {
   "cell_type": "markdown",
   "id": "e0a323f8",
   "metadata": {},
   "source": [
    "However, the program doesn't quite work. Please fix it."
   ]
  },
  {
   "cell_type": "markdown",
   "id": "e5730dec",
   "metadata": {},
   "source": [
    "### Exercise 2 (3 points)"
   ]
  },
  {
   "cell_type": "markdown",
   "id": "489ff052",
   "metadata": {},
   "source": [
    "__Repeat password__. Please write a program which asks the user for a password. The program should then ask the user to type in the password again. If the user types in something else than the first password, the program should keep on asking until the user types the first password again correctly.\n",
    "\n",
    "Have a look at the expected behaviour below:"
   ]
  },
  {
   "cell_type": "markdown",
   "id": "68d7e52b",
   "metadata": {},
   "source": [
    "```\n",
    "Password: sekred\n",
    "Repeat password: secret\n",
    "They do not match!\n",
    "Repeat password: cantremember\n",
    "They do not match!\n",
    "Repeat password: sekred\n",
    "User account created!\n",
    "```"
   ]
  },
  {
   "cell_type": "markdown",
   "id": "ccbcb92f",
   "metadata": {},
   "source": [
    "### Exercise 3 (2 points)"
   ]
  },
  {
   "cell_type": "markdown",
   "id": "fa25f5aa",
   "metadata": {},
   "source": [
    "__Loops and helper variables__. This program asks user to provide PIN until the PIN is correct. There is only 3 attempts. The program uses two helper variables. The variable `attempts` keeps track of how many times the user has typed in a PIN. The variable `success` is set to either True or False based on whether the user is successful in signing in.  \n",
    "Correct PIN is \"0911\"\n",
    "\n",
    "\n",
    "However, the program doesn't quite work. Please fix it."
   ]
  },
  {
   "cell_type": "markdown",
   "id": "0c74fde4",
   "metadata": {},
   "source": [
    "```python\n",
    "\n",
    "attempts = 1\n",
    "\n",
    "while True:\n",
    "    code = input(\"Please type in your PIN: \")\n",
    "    attempts += 1\n",
    "\n",
    "    if code == \"1234\":\n",
    "        success = True\n",
    "        break\n",
    "\n",
    "    if attempts == 3:\n",
    "        success = False\n",
    "        break\n",
    "\n",
    "    # this is printed if the code was incorrect AND there have been less than three attempts\n",
    "    print(\"Incorrect...try again\")\n",
    "\n",
    "if success:\n",
    "    print(\"Correct PIN entered!\")\n",
    "else:\n",
    "    print(\"Too many attempts...\")\n",
    "```"
   ]
  },
  {
   "cell_type": "markdown",
   "id": "f9f26b77",
   "metadata": {},
   "source": [
    "Have a look at the expected behaviour below:"
   ]
  },
  {
   "cell_type": "markdown",
   "id": "d0eed4e4",
   "metadata": {},
   "source": [
    "```\n",
    "Please type in your PIN: 0000\n",
    "Incorrect...try again\n",
    "Please type in your PIN: 1234\n",
    "Correct PIN entered!\n",
    "```"
   ]
  },
  {
   "cell_type": "markdown",
   "id": "16cd4138",
   "metadata": {},
   "source": [
    "```\n",
    "Please type in your PIN: 0000\n",
    "Incorrect...try again\n",
    "Please type in your PIN: 9999\n",
    "Incorrect...try again\n",
    "Please type in your PIN: 4321\n",
    "Too many attempts...\n",
    "```"
   ]
  },
  {
   "cell_type": "markdown",
   "id": "1615b858",
   "metadata": {},
   "source": [
    "### Exercise 4 (5 points)"
   ]
  },
  {
   "cell_type": "markdown",
   "id": "2f45bef7",
   "metadata": {},
   "source": [
    "__Working with numbers__   \n",
    "\n",
    "<i> Pre-task </i>  \n",
    "\n",
    "Please write a program which asks the user for integer numbers.   \n",
    "The program should keep asking for numbers until the user types in zero."
   ]
  },
  {
   "cell_type": "markdown",
   "id": "bf2969c2",
   "metadata": {},
   "source": [
    "```\n",
    "Please type in integer numbers. Type in 0 to finish.\n",
    "Number: 5\n",
    "Number: 22\n",
    "Number: 9\n",
    "Number: -2\n",
    "Number: 0\n",
    "```"
   ]
  },
  {
   "cell_type": "markdown",
   "id": "e0f80685",
   "metadata": {},
   "source": [
    "<i> Part 1: Count </i>\n",
    "\n",
    "After reading in the numbers the program should print out how many numbers were typed in.   \n",
    "\n",
    "The zero at the end should not be included in the count.  \n",
    "\n",
    "You will need a new variable here to keep track of the numbers typed in."
   ]
  },
  {
   "cell_type": "markdown",
   "id": "e21106e6",
   "metadata": {},
   "source": [
    "```\n",
    "... the program asks for numbers\n",
    "Numbers typed in 4\n",
    "```"
   ]
  },
  {
   "cell_type": "markdown",
   "id": "a04d1be5",
   "metadata": {},
   "source": [
    "<i> Part 2: Sum </i>\n",
    "\n",
    "The program should also print out the sum of all the numbers typed in. The zero at the end should not be included in the calculation.\n",
    "\n",
    "The program should now print out the following:\n"
   ]
  },
  {
   "cell_type": "markdown",
   "id": "4d83ca0e",
   "metadata": {},
   "source": [
    "```\n",
    "... the program asks for numbers\n",
    "Numbers typed in 4\n",
    "The sum of the numbers is 34\n",
    "```"
   ]
  },
  {
   "cell_type": "markdown",
   "id": "3350f6c9",
   "metadata": {},
   "source": [
    "<i> Part 3: Mean </i>  \n",
    "\n",
    "The program should also print out the mean of the numbers.   \n",
    "The zero at the end should not be included in the calculation.   \n",
    "You may assume the user will always type in at least one valid non-zero number."
   ]
  },
  {
   "cell_type": "markdown",
   "id": "952d41a7",
   "metadata": {},
   "source": [
    "```\n",
    "... the program asks for numbers\n",
    "Numbers typed in 4\n",
    "The sum of the numbers is 34\n",
    "The mean of the numbers is 8.5\n",
    "```"
   ]
  },
  {
   "cell_type": "markdown",
   "id": "fac1964a",
   "metadata": {},
   "source": [
    "<i> Part 4: Positives and negatives <i>  \n",
    "    \n",
    "The program should also print out statistics on how many of the numbers were positive and how many were negative.  \n",
    "\n",
    "The zero at the end should not be included in the calculation."
   ]
  },
  {
   "cell_type": "markdown",
   "id": "f707bdd2",
   "metadata": {},
   "source": [
    "```\n",
    "... the program asks for numbers\n",
    "Numbers typed in 4\n",
    "The sum of the numbers is 34\n",
    "The mean of the numbers is 8.5\n",
    "Positive numbers 3\n",
    "Negative numbers 1\n",
    "```"
   ]
  }
 ],
 "metadata": {
  "kernelspec": {
   "display_name": "Python 3 (ipykernel)",
   "language": "python",
   "name": "python3"
  },
  "language_info": {
   "codemirror_mode": {
    "name": "ipython",
    "version": 3
   },
   "file_extension": ".py",
   "mimetype": "text/x-python",
   "name": "python",
   "nbconvert_exporter": "python",
   "pygments_lexer": "ipython3",
   "version": "3.10.9"
  }
 },
 "nbformat": 4,
 "nbformat_minor": 5
}
