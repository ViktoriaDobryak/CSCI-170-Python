{
 "cells": [
  {
   "cell_type": "markdown",
   "id": "959cc6b1",
   "metadata": {},
   "source": [
    "# Workbook 11\n",
    "# Reading from file / Write to the file"
   ]
  },
  {
   "cell_type": "markdown",
   "id": "9fb2d95e",
   "metadata": {},
   "source": [
    "### Exercise 1 (8 points)"
   ]
  },
  {
   "cell_type": "markdown",
   "id": "c50c250e",
   "metadata": {},
   "source": [
    "__Largest number__. The file numbers.txt contains integer numbers, one number per line. The contents could look like this::"
   ]
  },
  {
   "cell_type": "markdown",
   "id": "aef2abe3",
   "metadata": {},
   "source": [
    "```txt\n",
    "2\n",
    "45\n",
    "108\n",
    "3\n",
    "-10\n",
    "1100\n",
    "...etc...\n",
    "```"
   ]
  },
  {
   "cell_type": "markdown",
   "id": "ddf74880",
   "metadata": {},
   "source": [
    "Please write a function named __largest__, which reads the file and returns the _largest number_ in the file.\n",
    "\n",
    "Notice that the function does not take any arguments. The file you are working with is always named __numbers.txt.__"
   ]
  },
  {
   "cell_type": "markdown",
   "id": "eb481a5c",
   "metadata": {},
   "source": [
    "```python\n",
    "largest()\n",
    "Max is 1100\n",
    "```"
   ]
  },
  {
   "cell_type": "markdown",
   "id": "77180598",
   "metadata": {},
   "source": [
    "### Exercise 2 (8 points)\n",
    "<br>"
   ]
  },
  {
   "cell_type": "markdown",
   "id": "6f96dc51",
   "metadata": {},
   "source": [
    "__Store personal data__\n",
    "\n",
    "Please write a function named `store_personal_data(person: tuple[str, int, float])`, which takes a tuple containing some identifying information as its argument.\n",
    "\n",
    "The tuple contains the following elements:\n",
    "\n",
    "<ul>\n",
    "<li>Name (string)</li>\n",
    "<li>Age (integer)</li>\n",
    "<li>Height (float)</li>\n",
    "</ul>\n",
    "\n",
    "This should be processed and written into the file `people.csv`.\n",
    "\n",
    "The file may already contain some data, add new entrys to the __end__ of the file.  \n",
    "\n",
    "The data should be written in the following format\n",
    "\n",
    "`name;age;height`\n",
    "\n",
    "Each entry should be on a separate line. \n",
    "\n",
    "If we call the function with the argument `(\"Paul Paulson\", 37, 175.5)`,\n",
    "the function should write this line to the end of the file:\n",
    "\n",
    "`Paul Paulson;37;175.5`\n",
    "\n",
    "We also want to validate that a person's age is an adult for GDPR reasons, don't save data for people under the age of 16."
   ]
  },
  {
   "cell_type": "markdown",
   "id": "2f418051",
   "metadata": {},
   "source": [
    "## <center> Raising and Handling Python Exceptions</center>"
   ]
  },
  {
   "cell_type": "markdown",
   "id": "e5730dec",
   "metadata": {},
   "source": [
    "### Exercise 3 (4 points)"
   ]
  },
  {
   "cell_type": "markdown",
   "id": "cced76a0",
   "metadata": {},
   "source": [
    "__Reading input__. Please write a function named __read_input__, which asks the user for input until the user types in an integer which falls within the bounds given as arguments to the function.  \n",
    "\n",
    "The function should return the final valid integer value typed in by the user.\n",
    "\n",
    "An example of the function in action:"
   ]
  },
  {
   "cell_type": "markdown",
   "id": "7b30c1c5",
   "metadata": {},
   "source": [
    "```python\n",
    "number = read_input(\"Please type in a number: \", 5, 10)\n",
    "print(\"You typed in:\", number)\n",
    "```"
   ]
  },
  {
   "cell_type": "markdown",
   "id": "88aa36bd",
   "metadata": {},
   "source": [
    "```\n",
    "Please type in a number: seven\n",
    "You must type in an integer between 5 and 10\n",
    "Please type in a number: -3\n",
    "You must type in an integer between 5 and 10\n",
    "Please type in a number: 8\n",
    "You typed in: 8\n",
    "```"
   ]
  },
  {
   "cell_type": "markdown",
   "id": "0ce82f59",
   "metadata": {},
   "source": [
    "### <center> Typical errors </center>"
   ]
  },
  {
   "cell_type": "markdown",
   "id": "fc9fa740",
   "metadata": {},
   "source": [
    "#### Here is a selection of typical errors you will likely come across, along with some situations where they may occur."
   ]
  },
  {
   "cell_type": "markdown",
   "id": "04de01ed",
   "metadata": {},
   "source": [
    "<hr>"
   ]
  },
  {
   "cell_type": "markdown",
   "id": "72d348c9",
   "metadata": {},
   "source": [
    "__ValueError__\n",
    "\n",
    "This error is often thrown when the argument passed to a function is somehow invalid.  \n",
    "For example, the function call `float(\"1,23\")` causes an error, because decimals are always separated by a point in Python, and here we have a comma."
   ]
  },
  {
   "cell_type": "markdown",
   "id": "9976afa3",
   "metadata": {},
   "source": [
    "__TypeError__\n",
    "\n",
    "This error occurs when a value is of the wrong type.  \n",
    "For example, the function call `len(10)` causes a `TypeError`, because the function `len` requires a value whose length can be calculated, such as a `string` or a `list`."
   ]
  },
  {
   "cell_type": "markdown",
   "id": "8b555d78",
   "metadata": {},
   "source": [
    "__IndexError__\n",
    "\n",
    "This common error occurs when trying to refer to an index which doesn't exist.  \n",
    "For example, the expression `\"abc\"[5]` causes an `IndexError`, because the string in question has no index 5."
   ]
  },
  {
   "cell_type": "markdown",
   "id": "b5e838ce",
   "metadata": {},
   "source": [
    "__ZeroDivisionError__\n",
    "\n",
    "As the name implies, this error is thrown when trying to divide by zero, which we know from mathematics to always be a bad idea.  \n",
    "For example, if we try to determine the arithmetic mean of values in a list with the formula `sum(my_list) / len(my_list)`, but our `list` has length zero, this error will occur."
   ]
  },
  {
   "cell_type": "markdown",
   "id": "ca2af13b",
   "metadata": {},
   "source": [
    "__Exceptions in file handling__\n",
    "\n",
    "Some common errors when working with files are `FileNotFoundError` (when trying to access a file which doesn't exist), \n",
    "\n",
    "`io.UnsupportedOperation` (when trying to perform an operation on a file which is not supported by the mode in which the file is opened)  \n",
    "\n",
    "or `PermissionError` (the program lacks necessary permissions to access the file)."
   ]
  },
  {
   "cell_type": "markdown",
   "id": "a73fb385",
   "metadata": {},
   "source": [
    "<hr>"
   ]
  },
  {
   "cell_type": "markdown",
   "id": "d36c5a36",
   "metadata": {},
   "source": [
    "### Exercise 4 (10 points)"
   ]
  },
  {
   "cell_type": "markdown",
   "id": "ee5806f9",
   "metadata": {},
   "source": [
    "__Parameter validation__.\n",
    "\n",
    "Design a function named `new_person(name: str, age: int)`, which creates and returns a `tuple` containing the data in the arguments.  \n",
    "\n",
    "The first element should be the `name` and the second the `age`.\n",
    "\n"
   ]
  },
  {
   "cell_type": "markdown",
   "id": "2ef522b9",
   "metadata": {},
   "source": [
    "```python\n",
    "def new_person(name: str, age: int):\n",
    "    return (name,age)\n",
    "```"
   ]
  },
  {
   "cell_type": "markdown",
   "id": "72273866",
   "metadata": {},
   "source": [
    "Unfortuantly, this code doesn't validate the inputs.  \n",
    "\n",
    "If the values stored in the parameter variables are not valid, the function should throw a `ValueError` exception.\n",
    "\n",
    "Invalid parameters in this case include:"
   ]
  },
  {
   "cell_type": "markdown",
   "id": "a0fa6aec",
   "metadata": {},
   "source": [
    "```\n",
    "name is an empty string\n",
    "name contains less than two words\n",
    "name is longer than 40 characters\n",
    "age is a negative number\n",
    "age is greater than 150\n",
    "```"
   ]
  },
  {
   "cell_type": "markdown",
   "id": "3401a7e7",
   "metadata": {},
   "source": [
    "Here's a sample of code which handles the first type of error."
   ]
  },
  {
   "cell_type": "markdown",
   "id": "34fb947e",
   "metadata": {},
   "source": [
    "```python\n",
    "def new_person(name: str, age: int):\n",
    "    if name == '':\n",
    "        raise ValueError(\"Cannot create person with no name\")\n",
    "    return (name,age)\n",
    "```"
   ]
  },
  {
   "cell_type": "markdown",
   "id": "03961732",
   "metadata": {},
   "source": [
    "Handle all other errors."
   ]
  },
  {
   "cell_type": "markdown",
   "id": "fb6dff14",
   "metadata": {},
   "source": [
    "### Exercise 5 (10 points)"
   ]
  },
  {
   "cell_type": "markdown",
   "id": "64d69285",
   "metadata": {},
   "source": [
    "__Incorrect lottery numbers__\n",
    "\n",
    "The file `lottery_numbers.csv` containts winning lottery numbers in the following format:\n",
    "    "
   ]
  },
  {
   "cell_type": "markdown",
   "id": "8518fe58",
   "metadata": {},
   "source": [
    "```\n",
    "week 1;5,7,11,13,23,24,30\n",
    "week 2;9,13,14,24,34,35,37\n",
    "\n",
    "...etc...\n",
    "```"
   ]
  },
  {
   "cell_type": "markdown",
   "id": "f119fd88",
   "metadata": {},
   "source": [
    "Each line contain a header `week x`, followed by seven integer numbers which are all between 1 and 39 inclusive."
   ]
  },
  {
   "cell_type": "markdown",
   "id": "adc0686c",
   "metadata": {},
   "source": [
    "The file has been corrupted.  \n",
    "\n",
    "Lines in the file may contain the following kinds of errors (these exact lines may not be present in the file, but errors in a similar format will be):\n",
    "\n",
    "The week number is incorrect:"
   ]
  },
  {
   "cell_type": "markdown",
   "id": "bd674648",
   "metadata": {},
   "source": [
    "```\n",
    "week zzc;1,5,13,22,24,25,26\n",
    "```"
   ]
  },
  {
   "cell_type": "markdown",
   "id": "88ef784b",
   "metadata": {},
   "source": [
    "One or more numbers are not correct:"
   ]
  },
  {
   "cell_type": "markdown",
   "id": "e0635ad8",
   "metadata": {},
   "source": [
    "```\n",
    "week 22;1,**,5,6,13,2b,34\n",
    "```"
   ]
  },
  {
   "cell_type": "markdown",
   "id": "16dca4d3",
   "metadata": {},
   "source": [
    "Too few numbers:"
   ]
  },
  {
   "cell_type": "markdown",
   "id": "3816a907",
   "metadata": {},
   "source": [
    "```\n",
    "week 13;4,6,17,19,24,33\n",
    "```"
   ]
  },
  {
   "cell_type": "markdown",
   "id": "66ec974a",
   "metadata": {},
   "source": [
    "The numbers are too small or large:"
   ]
  },
  {
   "cell_type": "markdown",
   "id": "4d2acfd4",
   "metadata": {},
   "source": [
    "```\n",
    "week 39;5,9,15,35,39,41,105\n",
    "```"
   ]
  },
  {
   "cell_type": "markdown",
   "id": "e5461de3",
   "metadata": {},
   "source": [
    "The same number appears twice:"
   ]
  },
  {
   "cell_type": "markdown",
   "id": "ab36dce5",
   "metadata": {},
   "source": [
    "```\n",
    "week 41;5,12,3,35,12,14,36\n",
    "```"
   ]
  },
  {
   "cell_type": "markdown",
   "id": "59113b24",
   "metadata": {},
   "source": [
    "Design a function named `filter_incorrect()`, which creates a file called `correct_numbers.csv`.  \n",
    "\n",
    "The file should contain only those lines from the original file which are in the correct format."
   ]
  },
  {
   "cell_type": "markdown",
   "id": "486c4508",
   "metadata": {},
   "source": [
    "##### An example of a possible solution for this exercise is provided."
   ]
  },
  {
   "cell_type": "markdown",
   "id": "e8a4aa43",
   "metadata": {},
   "source": [
    "Test the code with the `lottery_numbers_corupt.csv` file"
   ]
  },
  {
   "cell_type": "markdown",
   "id": "25f8ac0e",
   "metadata": {},
   "source": [
    "```python\n",
    "list_data=[]\n",
    "with open(\"lottery_numbers_corupt.csv\") as file_c:\n",
    "    for line in file_c:\n",
    "        line = line.replace(\"\\n\", \"\")\n",
    "        week, data = line.split(\";\")\n",
    "        \n",
    "        item_w1,item_w2 = week.split()\n",
    "        #print(f\"Handleing {(item_w1,item_w2)}\")\n",
    "        \n",
    "        # check if the week number is incorrect (not a number)\n",
    "        try: int(item_w2)\n",
    "        except ValueError:\n",
    "            print(f\"bad week number {week}\")\n",
    "            continue\n",
    "        \n",
    "        # check if one or more numbers are not correct\n",
    "        data = data.split(\",\")\n",
    "        try:  data = [int(e) for e in data]\n",
    "        except ValueError:\n",
    "            print(f\"bad number in {data}\")\n",
    "            continue\n",
    "        \n",
    "        # Check if there are too many or few values\n",
    "        if len(data)!=7:\n",
    "            print(f\"Wrong number of entries {len(data)} in {data}\")\n",
    "            continue\n",
    "\n",
    "        # check if the values are out of range\n",
    "        if min(data)<1:\n",
    "            print(f\"value {min(data)} is too small\")\n",
    "            continue\n",
    "        if max(data)>39:\n",
    "            print(f\"value {max(data)} is too large\")\n",
    "            continue\n",
    "        \n",
    "        # check for duplicates\n",
    "        if len(set(data)) != 7:\n",
    "            print(f\"duplicate elements are not allowed in {data}\")\n",
    "            continue\n",
    "        \n",
    "        list_data.append([week,data])\n",
    "\n",
    "with open(\"correct_numbers.csv\",\"w\") as ofile:\n",
    "    for w,d in list_data:\n",
    "        ofile.write(f\"{w};{d[0]},{d[1]},{d[2]},{d[3]},{d[4]},{d[5]},{d[6]}\\n\")\n",
    "        # can also be written as: `ofile.write(f\"{w};\"+','.join(d))`\n",
    "```"
   ]
  },
  {
   "cell_type": "markdown",
   "id": "91103ce8",
   "metadata": {},
   "source": [
    "The `lottery_numbers_corupt.csv` has the next records:"
   ]
  },
  {
   "cell_type": "markdown",
   "id": "3f5ac375",
   "metadata": {},
   "source": [
    "```\n",
    "week 1;5,7,11,13,23,24,30\n",
    "week 2;9,13,14,24,34,35,37\n",
    "week zzc;5,7,11,13,23,24,30\n",
    "week 22;9,13,**,24,34,2b,37\n",
    "week 13;4,6,17,19,24,33\n",
    "week 39;5,9,15,35,39,41,105\n",
    "week 41;5,12,3,35,12,14,36\n",
    "```"
   ]
  },
  {
   "cell_type": "markdown",
   "id": "a0794c2c",
   "metadata": {},
   "source": [
    "#### Task: \n",
    "\n",
    "Create a file `lottery_numbers_corupt_2.csv` containing the following records:"
   ]
  },
  {
   "cell_type": "markdown",
   "id": "993879f6",
   "metadata": {},
   "source": [
    "```\n",
    "week 1;2-4-6-8-10\n",
    "week 2;1-3-5-***-9\n",
    "week 3;5-7-11-13-23\n",
    "week 4;9-13-4a-2-3\n",
    "week 5;4-6-17-9-4\n",
    "week 6;5-0-15-2-5\n",
    "week 7;5-9-15-2--6\n",
    "week abc;5-1-3-7-12\n",
    "```"
   ]
  },
  {
   "cell_type": "markdown",
   "id": "ee1c901b",
   "metadata": {},
   "source": [
    "Now each line must to contain a header week x, followed by __five__ integer numbers which are all between __1__ and __20__ inclusive.  \n",
    "\n",
    "Make changes to the code that program can run with the new conditions"
   ]
  }
 ],
 "metadata": {
  "kernelspec": {
   "display_name": "Python 3 (ipykernel)",
   "language": "python",
   "name": "python3"
  },
  "language_info": {
   "codemirror_mode": {
    "name": "ipython",
    "version": 3
   },
   "file_extension": ".py",
   "mimetype": "text/x-python",
   "name": "python",
   "nbconvert_exporter": "python",
   "pygments_lexer": "ipython3",
   "version": "3.10.9"
  }
 },
 "nbformat": 4,
 "nbformat_minor": 5
}
