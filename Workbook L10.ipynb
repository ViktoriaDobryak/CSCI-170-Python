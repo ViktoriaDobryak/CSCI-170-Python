{
 "cells": [
  {
   "cell_type": "markdown",
   "id": "959cc6b1",
   "metadata": {},
   "source": [
    "# Workbook 10\n",
    "# Lists"
   ]
  },
  {
   "cell_type": "markdown",
   "id": "9fb2d95e",
   "metadata": {},
   "source": [
    "### Exercise 1 (1 point)"
   ]
  },
  {
   "cell_type": "markdown",
   "id": "c50c250e",
   "metadata": {},
   "source": [
    "__Change the value of an item__. Please write a program which initialises a list with the values [1, 2, 3, 4, 5].  \n",
    "Then the program should ask the user for an index and a new value, replace the value at the given index, and print the list again. This should be looped over until the user gives -1 for the index. You can assume all given index values will fall within your list.\n",
    "\n",
    "An example execution of the program:"
   ]
  },
  {
   "cell_type": "markdown",
   "id": "aef2abe3",
   "metadata": {},
   "source": [
    "```python\n",
    "[1, 2, 3, 4, 5]\n",
    "Index: 0\n",
    "New value: 10\n",
    "[10, 2, 3, 4, 5]\n",
    "Index: 2\n",
    "New value: 250\n",
    "[10, 2, 250, 4, 5]\n",
    "Index: 4\n",
    "New value: -45\n",
    "[10, 2, 250, 4, -45]\n",
    "Index: -1\n",
    "```"
   ]
  },
  {
   "cell_type": "markdown",
   "id": "ddf74880",
   "metadata": {},
   "source": [
    "__NB:__ This exercise doesn't ask you to write any functions.\n",
    "__Don't use the methods `append` and `insert`.__"
   ]
  },
  {
   "cell_type": "markdown",
   "id": "e5730dec",
   "metadata": {},
   "source": [
    "### Exercise 2 (1 point)"
   ]
  },
  {
   "cell_type": "markdown",
   "id": "489ff052",
   "metadata": {},
   "source": [
    "__Add items to a list__. Please write a program which first asks the user for the number of items to be added. Then the program should ask for the given number of values, one by one, and add them to a list in the order they were typed in. Finally, the list is printed out.\n",
    "\n",
    "An example of expected behaviour:"
   ]
  },
  {
   "cell_type": "markdown",
   "id": "68d7e52b",
   "metadata": {},
   "source": [
    "``` python\n",
    "How many items: 3\n",
    "Item 1: 10\n",
    "Item 2: 250\n",
    "Item 3: 34\n",
    "[10, 250, 34]\n",
    "```"
   ]
  },
  {
   "cell_type": "markdown",
   "id": "5e357a8e",
   "metadata": {},
   "source": [
    "__NB:__ This exercise doesn't ask you to write any functions.  \n",
    "__Don't use the `insert` method.__"
   ]
  },
  {
   "cell_type": "markdown",
   "id": "52dca7d7",
   "metadata": {},
   "source": [
    "### Exercise 3 (2 points)"
   ]
  },
  {
   "cell_type": "markdown",
   "id": "e5d48177",
   "metadata": {},
   "source": [
    "__Addition and Removal__. Please write a program which asks the user to choose between addition and removal. Depending on the choice, the program adds an item to or removes an item from the end of a list. The item that is added must always be one greater than the last item in the list. The first item to be added must be 1.\n",
    "\n",
    "The list is printed out in the beginning and after each operation. Have a look at the example execution below:"
   ]
  },
  {
   "cell_type": "markdown",
   "id": "d6b59864",
   "metadata": {},
   "source": [
    "```python\n",
    "The list is now []\n",
    "a(d)d, (r)emove or e(x)it: d\n",
    "The list is now [1]\n",
    "a(d)d, (r)emove or e(x)it: d\n",
    "The list is now [1, 2]\n",
    "a(d)d, (r)emove or e(x)it: d\n",
    "The list is now [1, 2, 3]\n",
    "a(d)d, (r)emove or e(x)it: r\n",
    "The list is now [1, 2]\n",
    "a(d)d, (r)emove or e(x)it: d\n",
    "The list is now [1, 2, 3]\n",
    "a(d)d, (r)emove or e(x)it: x\n",
    "Bye!\n",
    "```"
   ]
  },
  {
   "cell_type": "markdown",
   "id": "a16a5de8",
   "metadata": {},
   "source": [
    "You may assume that, if the list is empty, there will not be an attempt to remove items."
   ]
  },
  {
   "cell_type": "markdown",
   "id": "8ea0d17d",
   "metadata": {},
   "source": [
    "__NB:__ This exercise doesn't ask you to write any functions."
   ]
  },
  {
   "cell_type": "markdown",
   "id": "2f794550",
   "metadata": {},
   "source": [
    "### Exercise 4 (2 points)"
   ]
  },
  {
   "cell_type": "markdown",
   "id": "c1640502",
   "metadata": {},
   "source": [
    "__Same word twice__. Please write a program which asks the user for words. If the user types in a word for the second time, the program should print out the number of different words typed in, and exit."
   ]
  },
  {
   "cell_type": "markdown",
   "id": "0e1b9a09",
   "metadata": {},
   "source": [
    "```\n",
    "Word: once\n",
    "Word: upon\n",
    "Word: a\n",
    "Word: time\n",
    "Word: upon\n",
    "You typed in 4 different words\n",
    "```"
   ]
  },
  {
   "cell_type": "markdown",
   "id": "e43232e0",
   "metadata": {},
   "source": [
    "__NB:__ This exercise doesn't ask you to write any functions."
   ]
  },
  {
   "cell_type": "markdown",
   "id": "cbfac211",
   "metadata": {},
   "source": [
    "### Exercise 5 (2 points)"
   ]
  },
  {
   "cell_type": "markdown",
   "id": "87479518",
   "metadata": {},
   "source": [
    "__List twice__. Please write a program which asks the user to type in values and adds them to a list. After each addition, the list is printed out in two different ways:\n",
    "<ul>\n",
    "<li> in the order the items were added </li>\n",
    "<li> ordered from smallest to greatest </li>\n",
    "</ul>\n",
    "The program exits when the user types in 0.\n",
    "\n",
    "An example of expected behaviour:"
   ]
  },
  {
   "cell_type": "markdown",
   "id": "d485a1ca",
   "metadata": {},
   "source": [
    "```\n",
    "New item: 3\n",
    "The list now: [3]\n",
    "The list in order: [3]\n",
    "New item: 1\n",
    "The list now: [3, 1]\n",
    "The list in order: [1, 3]\n",
    "New item: 9\n",
    "The list now: [3, 1, 9]\n",
    "The list in order: [1, 3, 9]\n",
    "New item: 5\n",
    "The list now: [3, 1, 9, 5]\n",
    "The list in order: [1, 3, 5, 9]\n",
    "New item: 0\n",
    "Bye!\n",
    "```"
   ]
  },
  {
   "cell_type": "markdown",
   "id": "f60370d1",
   "metadata": {},
   "source": [
    "__NB:__ This exercise doesn't ask you to write any functions."
   ]
  },
  {
   "cell_type": "markdown",
   "id": "d1993bfa",
   "metadata": {},
   "source": [
    "### Exercise 6 (3 points)"
   ]
  },
  {
   "cell_type": "markdown",
   "id": "3b477234",
   "metadata": {},
   "source": [
    "__The length of a list__. Please write a function named __length__ which takes a list as its argument and returns the length of the list.  \n",
    "__Don't use the function len().__"
   ]
  },
  {
   "cell_type": "markdown",
   "id": "15363745",
   "metadata": {},
   "source": [
    "An example of expected behaviour:"
   ]
  },
  {
   "cell_type": "markdown",
   "id": "ac3b86f6",
   "metadata": {},
   "source": [
    "```python\n",
    "my_list = [1, 2, 3, 4, 5]\n",
    "result = length(my_list)\n",
    "print(\"The length is\", result)\n",
    "\n",
    "# the list given as an argument doesn't need to be stored in any variable\n",
    "result = length([1, 1, 1, 1])\n",
    "print(\"The length is\", result)\n",
    "```"
   ]
  },
  {
   "cell_type": "markdown",
   "id": "f198cf39",
   "metadata": {},
   "source": [
    "```\n",
    "The length is 5\n",
    "The length is 4\n",
    "```"
   ]
  },
  {
   "cell_type": "markdown",
   "id": "5795da57",
   "metadata": {},
   "source": [
    "### Exercise 7 (2 points)"
   ]
  },
  {
   "cell_type": "markdown",
   "id": "928511be",
   "metadata": {},
   "source": [
    "__The range of a list__. Please write a function named __range_of_list()__, which takes a list of integers as an argument.  \n",
    "The function returns the difference between the smallest and the largest value in the list.  "
   ]
  },
  {
   "cell_type": "markdown",
   "id": "b2d6717f",
   "metadata": {},
   "source": [
    "An example of expected behaviour:"
   ]
  },
  {
   "cell_type": "markdown",
   "id": "af3a2639",
   "metadata": {},
   "source": [
    "```python\n",
    "my_list = [1, 2, 3, 4, 5]\n",
    "result = range_of_list(my_list)\n",
    "print(\"The range of the list is\", result)\n",
    "```"
   ]
  },
  {
   "cell_type": "markdown",
   "id": "1f73f796",
   "metadata": {},
   "source": [
    "```\n",
    "The range of the list is 4\n",
    "```"
   ]
  },
  {
   "cell_type": "markdown",
   "id": "fa328e4b",
   "metadata": {},
   "source": [
    "### Exercise 8 (4 points)"
   ]
  },
  {
   "cell_type": "markdown",
   "id": "1b4eb263",
   "metadata": {},
   "source": [
    "__Rainfall Statistics__. Design a program that lets the user enter the total rainfall for each of 12 months into a list. The program should calculate and display the total rainfall for the year, the average monthly rainfall (to two decimal places), and the highest and lowest amounts of rainfall.\n",
    "\n",
    "__Don't use built-in methods or functions.__  "
   ]
  },
  {
   "cell_type": "markdown",
   "id": "393a6cc0",
   "metadata": {},
   "source": [
    "An example of expected behaviour:"
   ]
  },
  {
   "cell_type": "markdown",
   "id": "84c141f7",
   "metadata": {},
   "source": [
    "```python\n",
    "rainfall = [0,0,3,4,7,5,4,6,2,0,0,0]\n",
    "statistics_rainfall(rainfall)\n",
    "```"
   ]
  },
  {
   "cell_type": "markdown",
   "id": "a7005f68",
   "metadata": {},
   "source": [
    "```\n",
    "Total = 31\n",
    "Average = 2.58\n",
    "Highest = 7\n",
    "Lowest = 0\n",
    "```"
   ]
  }
 ],
 "metadata": {
  "kernelspec": {
   "display_name": "Python 3 (ipykernel)",
   "language": "python",
   "name": "python3"
  },
  "language_info": {
   "codemirror_mode": {
    "name": "ipython",
    "version": 3
   },
   "file_extension": ".py",
   "mimetype": "text/x-python",
   "name": "python",
   "nbconvert_exporter": "python",
   "pygments_lexer": "ipython3",
   "version": "3.10.9"
  }
 },
 "nbformat": 4,
 "nbformat_minor": 5
}
