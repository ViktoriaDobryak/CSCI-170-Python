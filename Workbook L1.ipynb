{
 "cells": [
  {
   "cell_type": "markdown",
   "id": "f2325acd",
   "metadata": {},
   "source": [
    "# Workbook 1\n",
    "# Wellcome to the Pythoning!"
   ]
  },
  {
   "cell_type": "markdown",
   "id": "ad93b8c0",
   "metadata": {},
   "source": [
    "Type this code `import this` and you can see the Zen of Python"
   ]
  },
  {
   "cell_type": "markdown",
   "id": "aee81a9f",
   "metadata": {},
   "source": [
    "```\n",
    "The Zen of Python, by Tim Peters\n",
    "\n",
    "Beautiful is better than ugly.\n",
    "Explicit is better than implicit.\n",
    "Simple is better than complex.\n",
    "Complex is better than complicated.\n",
    "Flat is better than nested.\n",
    "Sparse is better than dense.\n",
    "Readability counts.\n",
    "Special cases aren't special enough to break the rules.\n",
    "Although practicality beats purity.\n",
    "Errors should never pass silently.\n",
    "Unless explicitly silenced.\n",
    "In the face of ambiguity, refuse the temptation to guess.\n",
    "There should be one-- and preferably only one --obvious way to do it.\n",
    "Although that way may not be obvious at first unless you're Dutch.\n",
    "Now is better than never.\n",
    "Although never is often better than *right* now.\n",
    "If the implementation is hard to explain, it's a bad idea.\n",
    "If the implementation is easy to explain, it may be a good idea.\n",
    "Namespaces are one honking great idea -- let's do more of those!\n",
    "```"
   ]
  },
  {
   "cell_type": "markdown",
   "id": "d6145382",
   "metadata": {},
   "source": [
    "# Python I/O\n",
    "Computer programs consist of commands, each command instructs the computer to take some action. A computer executes these commands one by one. Among other things, commands can be used to perform calculations, compare things in the computer's memory, cause changes in how the program functions, relay messages or ask for information from the program's user.\n",
    "\n",
    "Let's begin programming by getting familiar with the `print()` command, which prints text. In this context, printing essentially means that the program will show some text on the screen.\n",
    "\n",
    "The following program will print the line \"Hi there!\":"
   ]
  },
  {
   "cell_type": "markdown",
   "id": "17f66052",
   "metadata": {},
   "source": [
    "`print(\"Hi there!\")`"
   ]
  },
  {
   "cell_type": "markdown",
   "id": "f3b6f04c",
   "metadata": {},
   "source": [
    "When the program is run, it produces this:\n",
    "> Hi there!"
   ]
  },
  {
   "cell_type": "markdown",
   "id": "a568032e",
   "metadata": {},
   "source": [
    "The program will not work unless the code is written exactly as it is above. For example, trying to run the print command without the quotation marks, like so"
   ]
  },
  {
   "cell_type": "markdown",
   "id": "a473fed4",
   "metadata": {},
   "source": [
    "`print(Hi there!)`"
   ]
  },
  {
   "cell_type": "markdown",
   "id": "20a642f7",
   "metadata": {},
   "source": [
    "will not print out the message, but instead causes an error:"
   ]
  },
  {
   "cell_type": "markdown",
   "id": "82a709ab",
   "metadata": {},
   "source": [
    "![title](W1_1.png)"
   ]
  },
  {
   "cell_type": "markdown",
   "id": "a63edd5e",
   "metadata": {},
   "source": [
    "In summary, if you want to print text, the text must all be encased in quotation marks or Python will not interpret it correctly."
   ]
  },
  {
   "cell_type": "markdown",
   "id": "091e4bc1",
   "metadata": {},
   "source": [
    "### Exercise 1 (1 point)"
   ]
  },
  {
   "cell_type": "markdown",
   "id": "0837dc76",
   "metadata": {},
   "source": [
    "Please write a program which prints out an emoticon: :-)"
   ]
  },
  {
   "cell_type": "markdown",
   "id": "6b88520c",
   "metadata": {},
   "source": [
    "# A program of multiple commands"
   ]
  },
  {
   "cell_type": "markdown",
   "id": "0822d6db",
   "metadata": {},
   "source": [
    "Multiple commands written in succession will be executed in order from first to last. For example this program"
   ]
  },
  {
   "cell_type": "markdown",
   "id": "728b95ea",
   "metadata": {},
   "source": [
    "```python\n",
    "print(\"Welcome to Introduction to Programming!\")\n",
    "print(\"First we will practice using the print command.\")\n",
    "print(\"This program prints three lines of text on the screen.\")\n",
    "```"
   ]
  },
  {
   "cell_type": "markdown",
   "id": "399b6a61",
   "metadata": {},
   "source": [
    "prints the following lines on the screen:"
   ]
  },
  {
   "cell_type": "markdown",
   "id": "f33f99ed",
   "metadata": {},
   "source": [
    "```\n",
    "Welcome to Introduction to Programming!\n",
    "First we will practice using the print command.\n",
    "This program prints three lines of text on the screen.\n",
    "```"
   ]
  },
  {
   "cell_type": "markdown",
   "id": "19d7acbd",
   "metadata": {},
   "source": [
    "### Exercise 2 (1 point)"
   ]
  },
  {
   "cell_type": "markdown",
   "id": "7c23eedf",
   "metadata": {},
   "source": [
    "The **Mount Rushmore National Memorial** is a national memorial centered on a colossal sculpture carved into the granite face of Mount Rushmore (Lakota: Tȟuŋkášila Šákpe, or Six Grandfathers) in the Black Hills near Keystone, South Dakota, United States.  \n",
    "\n",
    "This program is supposed to print the names of American presidents (left to right), but it doesn't work quite right yet. Please fix the program so that the names are printed in the correct order."
   ]
  },
  {
   "cell_type": "markdown",
   "id": "c012f67a",
   "metadata": {},
   "source": [
    "```python\n",
    "print(\"George Washington\")\n",
    "print(\"Theodore Roosevelt\")\n",
    "print(\"Abraham Lincoln\")\n",
    "print(\"Thomas Jefferson\")\n",
    "```"
   ]
  },
  {
   "cell_type": "markdown",
   "id": "8f43f9bf",
   "metadata": {},
   "source": [
    "### Exercise 3 (1 point)"
   ]
  },
  {
   "cell_type": "markdown",
   "id": "32034f89",
   "metadata": {},
   "source": [
    "Please write a program which prints out the following lines exactly as they are written here, punctuation and all:"
   ]
  },
  {
   "cell_type": "markdown",
   "id": "a8a078a6",
   "metadata": {},
   "source": [
    "```\n",
    "Row, row, row your boat,\n",
    "Gently down the stream.\n",
    "Merrily, merrily, merrily, merrily,\n",
    "Life is but a dream.\n",
    "```"
   ]
  },
  {
   "cell_type": "markdown",
   "id": "6f87521d",
   "metadata": {},
   "source": [
    "### Exercise 4 (1 point)"
   ]
  },
  {
   "cell_type": "markdown",
   "id": "73eff49c",
   "metadata": {},
   "source": [
    "The popular TV series Lost used the number sequence `4 8 15 16 23 42`, which brought good luck to the characters and helped them hit the lottery jackpot. Write a program that prints the given sequence of numbers with one space in between."
   ]
  },
  {
   "cell_type": "markdown",
   "id": "187035f2",
   "metadata": {},
   "source": [
    "Note. The plain text `'4 8 15 16 23 42'` cannot be used. Instead, use the `print()` command's ability to print multiple arguments, separated by commas."
   ]
  },
  {
   "cell_type": "markdown",
   "id": "b9cd18c4",
   "metadata": {},
   "source": [
    "### Exercise 5 (1 point)"
   ]
  },
  {
   "cell_type": "markdown",
   "id": "1e307cce",
   "metadata": {},
   "source": [
    "Modify the previous program so that each number in the sequence `4 8 15 16 23 42` is printed on its own line."
   ]
  },
  {
   "cell_type": "markdown",
   "id": "a12a3eab",
   "metadata": {},
   "source": [
    "### Exercise 6 (1 point)"
   ]
  },
  {
   "cell_type": "markdown",
   "id": "d6af97ce",
   "metadata": {},
   "source": [
    "Write a program that prints the following triangle made up of asterisks (*):"
   ]
  },
  {
   "cell_type": "markdown",
   "id": "9782fc1c",
   "metadata": {},
   "source": [
    "```\n",
    "*\n",
    "**\n",
    "***\n",
    "****\n",
    "*****\n",
    "******\n",
    "*******\n",
    "```"
   ]
  },
  {
   "cell_type": "markdown",
   "id": "178c35e7",
   "metadata": {},
   "source": [
    "# Arithmetic operations"
   ]
  },
  {
   "cell_type": "markdown",
   "id": "4b0cdf5e",
   "metadata": {},
   "source": [
    "You can also put arithmetic expressions inside a `print` command. Running it will then print out the result. For example, the following program"
   ]
  },
  {
   "cell_type": "markdown",
   "id": "0e4d0386",
   "metadata": {},
   "source": [
    "```python\n",
    "print(2 + 5)\n",
    "print(3 * 3)\n",
    "print(2 + 2 * 10)\n",
    "```"
   ]
  },
  {
   "cell_type": "markdown",
   "id": "48f47a49",
   "metadata": {},
   "source": [
    "prints out these lines:"
   ]
  },
  {
   "cell_type": "markdown",
   "id": "f09336c5",
   "metadata": {},
   "source": [
    "```\n",
    "7\n",
    "9\n",
    "22\n",
    "```"
   ]
  },
  {
   "cell_type": "markdown",
   "id": "520b5953",
   "metadata": {},
   "source": [
    "*Notice the lack of quotation marks around the arithmetic operations above*. \n",
    "Quotation marks are used to signify strings. In the context of programming, strings are sequences of characters. They can consist of letters, numbers and any other types of characters, such as punctuation.  \n",
    "\n",
    "__Strings aren't just words__ as we commonly understand them, but instead a single string can be as long as multiple complete sentences. Strings are usually printed out exactly as they are written. Thus, the following two commands produce two quite different results:"
   ]
  },
  {
   "cell_type": "markdown",
   "id": "0700309e",
   "metadata": {},
   "source": [
    "```python\n",
    "print(2 + 2 * 10)\n",
    "print(\"2 + 2 * 10\")\n",
    "```"
   ]
  },
  {
   "cell_type": "markdown",
   "id": "399ef30c",
   "metadata": {},
   "source": [
    "This program prints out:"
   ]
  },
  {
   "cell_type": "markdown",
   "id": "4dbe4648",
   "metadata": {},
   "source": [
    "```\n",
    "22\n",
    "2 + 2 * 10\n",
    "```"
   ]
  },
  {
   "cell_type": "markdown",
   "id": "e36ae685",
   "metadata": {},
   "source": [
    "With the second line of code, Python does not calculate the result of the expression, but instead prints out the expression itself, as a string. So, strings are printed out just as they are written, without any reference to their contents."
   ]
  },
  {
   "cell_type": "markdown",
   "id": "9480c814",
   "metadata": {},
   "source": [
    "# Commenting"
   ]
  },
  {
   "cell_type": "markdown",
   "id": "75083638",
   "metadata": {},
   "source": [
    "Any line beginning with the pound sign `#`, also known as a hash or a number sign, is a comment. This means that any text on that line following the `#` symbol will not in any way affect how the program functions. Python will simply ignore it.\n",
    "\n",
    "Comments are used for explaining how a program works, to both the programmer themselves, and others reading the program code. In this program a comment explains the calculation performed in the code:"
   ]
  },
  {
   "cell_type": "markdown",
   "id": "2252fdf7",
   "metadata": {},
   "source": [
    "```python\n",
    "print(\"Hours in a year:\")\n",
    "# there are 365 days in a year and 24 hours in each day\n",
    "print(365*24)\n",
    "```"
   ]
  },
  {
   "cell_type": "markdown",
   "id": "755d3970",
   "metadata": {},
   "source": [
    "When the program is run, the comment will not be visible to the user:"
   ]
  },
  {
   "cell_type": "markdown",
   "id": "6bb7c8d7",
   "metadata": {},
   "source": [
    "```\n",
    "Hours in a year:\n",
    "8760\n",
    "```"
   ]
  },
  {
   "cell_type": "markdown",
   "id": "637d197e",
   "metadata": {},
   "source": [
    "Short comments can also be added to the end of a line:"
   ]
  },
  {
   "cell_type": "markdown",
   "id": "f9f01cbd",
   "metadata": {},
   "source": [
    "```python\n",
    "print(\"Hours in a year:\")\n",
    "print(365*24) # 365 days, 24 hours in each day\n",
    "```"
   ]
  },
  {
   "cell_type": "markdown",
   "id": "fd838e5d",
   "metadata": {},
   "source": [
    "# Variables in print() command"
   ]
  },
  {
   "cell_type": "markdown",
   "id": "64b5e2f3",
   "metadata": {},
   "source": [
    "As you noticed, we can use variables within the `print()` command. To do this, we simply supply the variable name without quotes as an argument inside the parentheses."
   ]
  },
  {
   "cell_type": "markdown",
   "id": "a5acd669",
   "metadata": {},
   "source": [
    "```python\n",
    "city = 'New York'\n",
    "print(city, 'is my city!')\n",
    "```"
   ]
  },
  {
   "cell_type": "markdown",
   "id": "9f271c29",
   "metadata": {},
   "source": [
    "This prints out:"
   ]
  },
  {
   "cell_type": "markdown",
   "id": "952a2f24",
   "metadata": {},
   "source": [
    "```\n",
    "New York is my city!\n",
    "```"
   ]
  },
  {
   "cell_type": "markdown",
   "id": "d69280bb",
   "metadata": {},
   "source": [
    "We can use several variables in the `print()` command. Just remember that the arguments to the `print()` command need to be __separated by commas__."
   ]
  },
  {
   "cell_type": "markdown",
   "id": "54b0c997",
   "metadata": {},
   "source": [
    "```python\n",
    "name = 'Alex'\n",
    "city = 'Rockford'\n",
    "print('My name is', name, '.', city, 'is my city!')\n",
    "```"
   ]
  },
  {
   "cell_type": "markdown",
   "id": "a030f6e0",
   "metadata": {},
   "source": [
    "```\n",
    "My name is Alex . Rockford is my city!\n",
    "```"
   ]
  },
  {
   "cell_type": "markdown",
   "id": "47b3f009",
   "metadata": {},
   "source": [
    "---"
   ]
  },
  {
   "cell_type": "markdown",
   "id": "2ef3ac47",
   "metadata": {},
   "source": [
    "Naturally, variable values can vary (be changed) though reassigned. Try this:"
   ]
  },
  {
   "cell_type": "markdown",
   "id": "ddd0cff3",
   "metadata": {},
   "source": [
    "```python\n",
    "print('What is your name')\n",
    "\n",
    "name = input()\n",
    "print('Hi,', name)\n",
    "\n",
    "name = 'Chris'\n",
    "print('Hello,', name)\n",
    "```"
   ]
  },
  {
   "cell_type": "markdown",
   "id": "6708cd89",
   "metadata": {},
   "source": [
    "The assignment operator (`=`) gives a variable a value, regardless of whether the variable was previously used. You can change a variable's value by writing another assignment statement. Once we have a variable, we can do whatever we want with it, such as assigning it to another variable or changing its value."
   ]
  },
  {
   "cell_type": "markdown",
   "id": "78993999",
   "metadata": {},
   "source": [
    "```python\n",
    "name1 = 'Brooklyn'\n",
    "name2 = name1\n",
    "name1 = 'Jace'\n",
    "\n",
    "print(name1)\n",
    "print(name2)\n",
    "```"
   ]
  },
  {
   "cell_type": "markdown",
   "id": "c4f93470",
   "metadata": {},
   "source": [
    "this prints out:"
   ]
  },
  {
   "cell_type": "markdown",
   "id": "de50d436",
   "metadata": {},
   "source": [
    "```\n",
    "Jace\n",
    "Brooklyn\n",
    "```"
   ]
  },
  {
   "cell_type": "markdown",
   "id": "aedb6ec3",
   "metadata": {},
   "source": [
    "### Exercise 7 (1 point)"
   ]
  },
  {
   "cell_type": "markdown",
   "id": "7f0a273e",
   "metadata": {},
   "source": [
    "Try this"
   ]
  },
  {
   "cell_type": "markdown",
   "id": "6331eb91",
   "metadata": {},
   "source": [
    "```python\n",
    "first = input()\n",
    "second = input()\n",
    "\n",
    "print('I am', first, 'and', second)\n",
    "```"
   ]
  },
  {
   "cell_type": "markdown",
   "id": "f7fa4658",
   "metadata": {},
   "source": [
    "Enter for the first \"Cool\" and for the second \"I know it\""
   ]
  },
  {
   "cell_type": "markdown",
   "id": "9bd33235",
   "metadata": {},
   "source": [
    "### Exercise 8 (1 point)"
   ]
  },
  {
   "cell_type": "markdown",
   "id": "908d025a",
   "metadata": {},
   "source": [
    "Try this"
   ]
  },
  {
   "cell_type": "markdown",
   "id": "0ab7f3b3",
   "metadata": {},
   "source": [
    "```python\n",
    "name_1 = input()                      # waiting for the first person's name\n",
    "print('Hi, ', name_1, '!')            # output for the first\n",
    "\n",
    "name_2 = input()                   # waiting for the second person's name\n",
    "print('Hello, ', name_2, '.')      # output for the second\n",
    "```"
   ]
  },
  {
   "cell_type": "markdown",
   "id": "b91ad8c4",
   "metadata": {},
   "source": [
    "Enter for the first \"Liam\" and for the second \"Ted\""
   ]
  },
  {
   "cell_type": "markdown",
   "id": "c7ec5047",
   "metadata": {},
   "source": [
    "### Exercise 9 (2 points)"
   ]
  },
  {
   "cell_type": "markdown",
   "id": "d4bd29a3",
   "metadata": {},
   "source": [
    "Write a program that takes three lines through standard input (the `input()` command) and then prints them in __reverse order__, each on a separate line."
   ]
  },
  {
   "cell_type": "markdown",
   "id": "d32f387f",
   "metadata": {},
   "source": [
    "For example, if the program input is given the following lines:"
   ]
  },
  {
   "cell_type": "markdown",
   "id": "38ad8d72",
   "metadata": {},
   "source": [
    "```\n",
    "Hello\n",
    "it's\n",
    "me\n",
    "```"
   ]
  },
  {
   "cell_type": "markdown",
   "id": "0807ca17",
   "metadata": {},
   "source": [
    "then it prints out"
   ]
  },
  {
   "cell_type": "markdown",
   "id": "c6e26b60",
   "metadata": {},
   "source": [
    "```\n",
    "me\n",
    "it's\n",
    "Hello\n",
    "```"
   ]
  },
  {
   "cell_type": "markdown",
   "id": "cef4fbe5",
   "metadata": {},
   "source": [
    "---"
   ]
  },
  {
   "cell_type": "markdown",
   "id": "7d443331",
   "metadata": {},
   "source": [
    "# The Plus (+) Operator"
   ]
  },
  {
   "cell_type": "markdown",
   "id": "adca1b9f",
   "metadata": {},
   "source": [
    "In Python, the plus (`+`) operator allows you to concatenate (join) two or more strings."
   ]
  },
  {
   "cell_type": "markdown",
   "id": "9bf06fa1",
   "metadata": {},
   "source": [
    "For example:"
   ]
  },
  {
   "cell_type": "markdown",
   "id": "dddebcf0",
   "metadata": {},
   "source": [
    "```python\n",
    "print(\"Hello,\" + \"world!\")\n",
    "```"
   ]
  },
  {
   "cell_type": "markdown",
   "id": "6b9fd7aa",
   "metadata": {},
   "source": [
    "```\n",
    "Hello,world!\n",
    "```"
   ]
  },
  {
   "cell_type": "markdown",
   "id": "4d387a96",
   "metadata": {},
   "source": [
    "Since the plus (`+`) operator __concatenates__ the strings as they are, they’ll be squished together unless you explicitly include a leading space as part of the `print` statement:"
   ]
  },
  {
   "cell_type": "markdown",
   "id": "443191f7",
   "metadata": {},
   "source": [
    "```python\n",
    "print(\"Hello,\" + \" \" + \"world!\")\n",
    "# Hello, world!\n",
    "\n",
    "print(\"Hello, \" + \"world!\")\n",
    "# Hello, world!\n",
    "\n",
    "print(\"Hello,\" + \" world!\")\n",
    "# Hello, world!\n",
    "```"
   ]
  },
  {
   "cell_type": "markdown",
   "id": "030a4659",
   "metadata": {},
   "source": [
    "Plus (`+`) act as the concatenation operator if operands are __strings__ otherwise it acts as mathematical plus operator.  \n",
    "Whereas, the comma in the `print` command is used to separate arguments (variables or expressions). In case of strings `,` and `+` in `print` work almost the same, but fundamentally they are different: `+` creates new object from operands whereas the comma has print use the objects as is without creating new ones.  \n",
    "\n",
    "Try these to see the differnces:"
   ]
  },
  {
   "cell_type": "markdown",
   "id": "7876b929",
   "metadata": {},
   "source": [
    "```python\n",
    "print('this','and','that')\n",
    "print('this'+'and'+'that')\n",
    "\n",
    "var1='Hello'\n",
    "var2='!!'\n",
    "print(var1,var2)\n",
    "print(var1+var2)\n",
    "\n",
    "print(2,6)\n",
    "print(2+6)\n",
    "```"
   ]
  },
  {
   "cell_type": "markdown",
   "id": "2be87461",
   "metadata": {},
   "source": [
    "### Exercise 10 (2 points)"
   ]
  },
  {
   "cell_type": "markdown",
   "id": "414116ff",
   "metadata": {},
   "source": [
    "Please write a program which asks for the user's name and address.  \n",
    "\n",
    "The program should also print out the given information, for example: \n",
    "<span style='color: red;'> Steve Sanders, 91 Station Road, London EC05 6AW </span>"
   ]
  },
  {
   "cell_type": "markdown",
   "id": "d6cec292",
   "metadata": {},
   "source": [
    "```\n",
    "Given name: Steve\n",
    "Family name: Sanders\n",
    "Street address: 91 Station Road\n",
    "City and postal code: London EC05 6AW\n",
    "Steve Sanders\n",
    "91 Station Road\n",
    "London EC05 6AW\n",
    "```"
   ]
  },
  {
   "cell_type": "markdown",
   "id": "6c09f896",
   "metadata": {},
   "source": [
    "### Exercise 11 (2 points)"
   ]
  },
  {
   "cell_type": "markdown",
   "id": "2c99d1f9",
   "metadata": {},
   "source": [
    "Please write a program which prints out the following story. The user gives a <span style='color: red;'> name </span> and a <span style='color: red;'> year </span>, which should be inserted into the printout.  \n",
    "An example for <span style='color: red;'> Mary, 1572 </span>"
   ]
  },
  {
   "cell_type": "markdown",
   "id": "e59b7ddb",
   "metadata": {},
   "source": [
    "```\n",
    "Please type in a name: Mary\n",
    "Please type in a year: 1572\n",
    "\n",
    "Mary is a valiant knight, born in the year 1572. One morning Mary woke up to an awful racket: a dragon was approaching the village. Only Mary could save the village's residents.\n",
    "```"
   ]
  },
  {
   "cell_type": "markdown",
   "id": "2edc0c97",
   "metadata": {},
   "source": [
    "The relevant parts in the story should change according to the input given by the user."
   ]
  }
 ],
 "metadata": {
  "celltoolbar": "Raw Cell Format",
  "kernelspec": {
   "display_name": "Python 3 (ipykernel)",
   "language": "python",
   "name": "python3"
  },
  "language_info": {
   "codemirror_mode": {
    "name": "ipython",
    "version": 3
   },
   "file_extension": ".py",
   "mimetype": "text/x-python",
   "name": "python",
   "nbconvert_exporter": "python",
   "pygments_lexer": "ipython3",
   "version": "3.10.9"
  }
 },
 "nbformat": 4,
 "nbformat_minor": 5
}
