{
 "cells": [
  {
   "cell_type": "markdown",
   "id": "f2325acd",
   "metadata": {},
   "source": [
    "# Workbook 3\n",
    "# Arithmetic operations"
   ]
  },
  {
   "cell_type": "markdown",
   "id": "ad93b8c0",
   "metadata": {},
   "source": [
    "There are three distinct __numeric types__ in python: integers, floating point numbers, and complex numbers. Additionly, Booleans are a subtype of integers. Python integers have unlimited precision. Numbers are created by numeric literals or as the result of built-in functions and operators. "
   ]
  },
  {
   "cell_type": "markdown",
   "id": "aee81a9f",
   "metadata": {},
   "source": [
    "``` python\n",
    "num1 = 7                # num1 is a number (integer)\n",
    "num2 = 10               # num2 is a number (integer)\n",
    "num3 = num1 + num2      # num3 is a number (integer)\n",
    "\n",
    "print(num3)\n",
    "```"
   ]
  },
  {
   "cell_type": "markdown",
   "id": "221824b8",
   "metadata": {},
   "source": [
    "The result of running this code will be:"
   ]
  },
  {
   "cell_type": "markdown",
   "id": "50cd80e0",
   "metadata": {},
   "source": [
    "```\n",
    "17\n",
    "```"
   ]
  },
  {
   "cell_type": "markdown",
   "id": "17bbcd9b",
   "metadata": {},
   "source": [
    "__Note__: Numbers are denoted without quotation marks and strings are denoted with quotation marks."
   ]
  },
  {
   "cell_type": "markdown",
   "id": "f8c8190c",
   "metadata": {},
   "source": [
    "### Basic Number Operations"
   ]
  },
  {
   "cell_type": "markdown",
   "id": "c993e633",
   "metadata": {},
   "source": [
    "In Python, as in mathematics, there are 7 basic operations that can be performed on numbers:\n",
    "- Addition (`+`)\n",
    "- Subtraction (`-`)\n",
    "- Multiplication (`*`)\n",
    "- Division (`/`)\n",
    "- Exponentiaion (`**`)\n",
    "- Integer Division (`//`)\n",
    "- Remainder (`%`)"
   ]
  },
  {
   "cell_type": "markdown",
   "id": "7e05da33",
   "metadata": {},
   "source": [
    "**Note:** The caret symbol (`^`) that is traditionally used for exponentiation in mathematics is used for the boolean logic xor operation in compuer science."
   ]
  },
  {
   "cell_type": "markdown",
   "id": "6eac98da",
   "metadata": {},
   "source": [
    "Also just as in mathematics, there is an order of operations that determines which operations should be performed before others.  The order of operations in Python is the same as the order of operations you learned in math classes."
   ]
  },
  {
   "cell_type": "markdown",
   "id": "ea83acce",
   "metadata": {},
   "source": [
    "```python\n",
    "num1 = 2 + 3 * 4\n",
    "num2 = (2 + 3) * 4\n",
    "\n",
    "print(num1)\n",
    "print(num2)\n",
    "```"
   ]
  },
  {
   "cell_type": "markdown",
   "id": "c8de3a26",
   "metadata": {},
   "source": [
    "This code prints out:"
   ]
  },
  {
   "cell_type": "markdown",
   "id": "dee7a948",
   "metadata": {},
   "source": [
    "```\n",
    "14\n",
    "20\n",
    "```"
   ]
  },
  {
   "cell_type": "markdown",
   "id": "8a7b24e4",
   "metadata": {},
   "source": [
    "The variable `num1` will store the number `14`, since the first thing to do is multiply, and only then add. The variable `num2` will store the number `20`, since the parentheses have changed the priority of the operations."
   ]
  },
  {
   "cell_type": "markdown",
   "id": "da4f8a29",
   "metadata": {},
   "source": [
    "__Note__: The first step is multiplication or division, then addition and subtraction. You will need parentheses to change the order of operations."
   ]
  },
  {
   "cell_type": "markdown",
   "id": "3946f564",
   "metadata": {},
   "source": [
    "### Type Conversion in Python"
   ]
  },
  {
   "cell_type": "markdown",
   "id": "58645422",
   "metadata": {},
   "source": [
    "To check the type of valu (variable) you can use the `type()` function.\n",
    "\n",
    "Try this"
   ]
  },
  {
   "cell_type": "markdown",
   "id": "2dae2062",
   "metadata": {},
   "source": [
    "```\n",
    "a = 5\n",
    "b = 1.5\n",
    "\n",
    "type(a)\n",
    "\n",
    "type(b)\n",
    "```"
   ]
  },
  {
   "cell_type": "markdown",
   "id": "98e00c5f",
   "metadata": {},
   "source": [
    "A string can be converted into an integer with the function `int`. "
   ]
  },
  {
   "cell_type": "markdown",
   "id": "147bcb4a",
   "metadata": {},
   "source": [
    "Try this"
   ]
  },
  {
   "cell_type": "markdown",
   "id": "84ed03e3",
   "metadata": {},
   "source": [
    "```python\n",
    "input_str = input(\"Which year were you born? \")\n",
    "year = int(input_str)\n",
    "print(f\"Your age at the end of the year 2024: {2024 - year}\" )\n",
    "```"
   ]
  },
  {
   "cell_type": "markdown",
   "id": "19d7acbd",
   "metadata": {},
   "source": [
    "### Exercise 1 (1 point)"
   ]
  },
  {
   "cell_type": "markdown",
   "id": "5a5bc906",
   "metadata": {},
   "source": [
    "Please write a program which asks the user for a number. The program then prints out the number multiplied by five.\n",
    "\n",
    "The program should function as follows:"
   ]
  },
  {
   "cell_type": "markdown",
   "id": "4938a437",
   "metadata": {},
   "source": [
    "```\n",
    "Please type in a number: 3\n",
    "3 times 5 is 15\n",
    "```"
   ]
  },
  {
   "cell_type": "markdown",
   "id": "dac212a1",
   "metadata": {},
   "source": [
    "### Exercise 2 (3 points)"
   ]
  },
  {
   "cell_type": "markdown",
   "id": "3935c27a",
   "metadata": {},
   "source": [
    "Write a Python program that:\n",
    "\n",
    "1. Asks the user for their name and year of birth.\n",
    "\n",
    "2. Calculates the user's age without using an additional variable to store the result.\n",
    "\n",
    "3. The program then prints out a message as follows:"
   ]
  },
  {
   "cell_type": "markdown",
   "id": "5b20d3cc",
   "metadata": {},
   "source": [
    "```\n",
    "What is your name? James Collins\n",
    "Which year were you born? 2001\n",
    "Hi James Collins, you will be 23 years old at the end of the year 2024\n",
    "```"
   ]
  },
  {
   "cell_type": "markdown",
   "id": "4f3a664f",
   "metadata": {},
   "source": [
    "### Exercise 3 (3 points)"
   ]
  },
  {
   "cell_type": "markdown",
   "id": "db92f800",
   "metadata": {},
   "source": [
    "__Seconds in a day.__ Write a Python program that:\n",
    "\n",
    "1. Asks the user for a number of days.\n",
    "\n",
    "2. Calculates the number of seconds in the given number of days.\n",
    "\n",
    "The program should function as follows:"
   ]
  },
  {
   "cell_type": "markdown",
   "id": "c3f12a55",
   "metadata": {},
   "source": [
    "```\n",
    "How many days? 1\n",
    "Seconds in that many days: 86400\n",
    "```"
   ]
  },
  {
   "cell_type": "markdown",
   "id": "62c82c52",
   "metadata": {},
   "source": [
    "Another example:"
   ]
  },
  {
   "cell_type": "markdown",
   "id": "feb431b6",
   "metadata": {},
   "source": [
    "```\n",
    "How many days? 7\n",
    "Seconds in that many days: 604800\n",
    "```"
   ]
  },
  {
   "cell_type": "markdown",
   "id": "310d81fa",
   "metadata": {},
   "source": [
    "### Exercise 4 (3 points)"
   ]
  },
  {
   "cell_type": "markdown",
   "id": "abd9d77a",
   "metadata": {},
   "source": [
    "__Sum and product.__ Write a Python program that:\n",
    "\n",
    "1. Asks the user for two numbers.\n",
    "\n",
    "2. Calculates the sum and product of the two numbers.\n",
    "\n",
    "3. Prints the results using f-strings \n",
    "\n",
    "The program should function as follows:"
   ]
  },
  {
   "cell_type": "markdown",
   "id": "d61d08c4",
   "metadata": {},
   "source": [
    "```\n",
    "Number 1: 3\n",
    "Number 2: 7\n",
    "The sum of the numbers: 10\n",
    "The product of the numbers: 21\n",
    "```"
   ]
  },
  {
   "cell_type": "markdown",
   "id": "f493417f",
   "metadata": {},
   "source": [
    "### Exercise 5 (4 points)"
   ]
  },
  {
   "cell_type": "markdown",
   "id": "330b8b76",
   "metadata": {},
   "source": [
    "__Sum and mean.__\n",
    "Write a Python program that:\n",
    "\n",
    "1. Asks the user for four numbers.\n",
    "\n",
    "2. Calculates the sum and the mean (average) of the numbers.\n",
    "\n",
    "3. Prints the results in the following format:\n"
   ]
  },
  {
   "cell_type": "markdown",
   "id": "a4aec179",
   "metadata": {},
   "source": [
    "```\n",
    "Number 1: 2\n",
    "Number 2: 1\n",
    "Number 3: 6\n",
    "Number 4: 7\n",
    "The sum of the numbers is 16 and the mean is 4.0\n",
    "```"
   ]
  },
  {
   "cell_type": "markdown",
   "id": "c57f038c",
   "metadata": {},
   "source": [
    "### Float"
   ]
  },
  {
   "cell_type": "markdown",
   "id": "0415dff4",
   "metadata": {},
   "source": [
    "Similarly, a string can be converted into a floating point number with the function float.  \n",
    "\n",
    "This programs asks the user for their height and weight, and uses these to calculate their BMI:"
   ]
  },
  {
   "cell_type": "markdown",
   "id": "be4aa9a7",
   "metadata": {},
   "source": [
    "``` python\n",
    "height = float(input(\"What is your height? \"))\n",
    "weight = float(input(\"What is your weight? \"))\n",
    "\n",
    "height = height / 100\n",
    "bmi = weight / height ** 2\n",
    "\n",
    "print(\"The BMI is\", bmi)\n",
    "```"
   ]
  },
  {
   "cell_type": "markdown",
   "id": "364f2cce",
   "metadata": {},
   "source": [
    "```\n",
    "What is your height? 163\n",
    "What is your weight? 74.45\n",
    "The BMI is 28.02137829801649\n",
    "```"
   ]
  },
  {
   "cell_type": "markdown",
   "id": "4dee090d",
   "metadata": {},
   "source": [
    "### Exercise 6 (5 points)"
   ]
  },
  {
   "cell_type": "markdown",
   "id": "fdb6c512",
   "metadata": {},
   "source": [
    "__Food expenditure.__ Write a Python program that:\n",
    "\n",
    "Asks the user:\n",
    "\n",
    "1. How many times a week they eat at the student cafeteria.\n",
    "2. The price of a typical student lunch.\n",
    "3. The amount of money spent on groceries each week.\n",
    "\n",
    "Calculate the user’s typical weekly food expenditure using the following formula:\n",
    "\n",
    "Weekly Expenditure = (Number of cafeteria meals per week × Price per meal) + Weekly grocery expenses\n",
    "\n",
    "Calculate the user’s typical daily food expenditure by dividing the weekly expenditure by 7.\n",
    "\n",
    "\n",
    "\n",
    "The program should function as follows:"
   ]
  },
  {
   "cell_type": "markdown",
   "id": "38edccf8",
   "metadata": {},
   "source": [
    "```\n",
    "How many times a week do you eat at the student cafeteria? 4\n",
    "The price of a typical student lunch? 2.5\n",
    "How much money do you spend on groceries in a week? 28.5\n",
    "\n",
    "Average food expenditure:\n",
    "Daily: 5.5 dollars\n",
    "Weekly: 38.5 dollars\n",
    "```"
   ]
  },
  {
   "cell_type": "markdown",
   "id": "c28e7a5e",
   "metadata": {},
   "source": [
    "### Exercise 7 (6 points)"
   ]
  },
  {
   "cell_type": "markdown",
   "id": "faa7d5b1",
   "metadata": {},
   "source": [
    "__Three numbers in sequence.__  Write a Python program that:\n",
    "\n",
    "1. Asks the user to input an integer. This integer will be the first number in the sequence.\n",
    "2. Calculates the next two consecutive numbers in the sequence.\n",
    "3. Prints the three numbers, each on a separate line.\n",
    "\n",
    "__Input:__\n",
    "One integer provided by the user.\n",
    "\n",
    "__Output:__\n",
    "The program must output three consecutive numbers in accordance with the problem conditions."
   ]
  },
  {
   "cell_type": "markdown",
   "id": "b169b2a9",
   "metadata": {},
   "source": [
    "Example 1"
   ]
  },
  {
   "cell_type": "markdown",
   "id": "a4de716a",
   "metadata": {},
   "source": [
    "```\n",
    "Sample Input 1:\n",
    "8\n",
    "```"
   ]
  },
  {
   "cell_type": "markdown",
   "id": "36a1b007",
   "metadata": {},
   "source": [
    "```\n",
    "Sample Output 1:\n",
    "\n",
    "8\n",
    "9\n",
    "10\n",
    "```"
   ]
  },
  {
   "cell_type": "markdown",
   "id": "8410c49e",
   "metadata": {},
   "source": [
    "Example 2"
   ]
  },
  {
   "cell_type": "markdown",
   "id": "a758cfbd",
   "metadata": {},
   "source": [
    "```\n",
    "Sample Input 2:\n",
    "\n",
    "-341\n",
    "```"
   ]
  },
  {
   "cell_type": "markdown",
   "id": "d1153f34",
   "metadata": {},
   "source": [
    "```\n",
    "Sample Output 2:\n",
    "\n",
    "-341\n",
    "-340\n",
    "-339\n",
    "```"
   ]
  },
  {
   "cell_type": "markdown",
   "id": "3a9cb260",
   "metadata": {},
   "source": [
    "Example 3"
   ]
  },
  {
   "cell_type": "markdown",
   "id": "b9d6f32c",
   "metadata": {},
   "source": [
    "```\n",
    "Sample Input 3:\n",
    "\n",
    "-1\n",
    "```"
   ]
  },
  {
   "cell_type": "markdown",
   "id": "694650e0",
   "metadata": {},
   "source": [
    "```\n",
    "Sample Output 3:\n",
    "\n",
    "-1\n",
    "0\n",
    "1\n",
    "```"
   ]
  },
  {
   "cell_type": "markdown",
   "id": "e56d97d7",
   "metadata": {},
   "source": [
    "### Exercise 8 (7 points)"
   ]
  },
  {
   "cell_type": "markdown",
   "id": "bc4117d4",
   "metadata": {},
   "source": [
    "Write a Python program that:\n",
    "\n",
    "1. Asks the user to input an integer representing the length of the edge of a cube.\n",
    "\n",
    "2. Calculate the volume of the cube\n",
    "\n",
    "3. Calculate the total surface area of the cube \n",
    "\n",
    "You can find the formulas in the lecture notes.\n",
    "\n",
    "__Input:__\n",
    "The program input is one integer – the length of the edge.\n",
    "\n",
    "__Output:__\n",
    "The program should output text and numbers in accordance with the task conditions."
   ]
  },
  {
   "cell_type": "markdown",
   "id": "a5934ad5",
   "metadata": {},
   "source": [
    "Example 1"
   ]
  },
  {
   "cell_type": "markdown",
   "id": "51ac2d86",
   "metadata": {},
   "source": [
    "```\n",
    "Sample Input:\n",
    "25\n",
    "```"
   ]
  },
  {
   "cell_type": "markdown",
   "id": "bf097a36",
   "metadata": {},
   "source": [
    "```\n",
    "Sample Output:\n",
    "\n",
    "V, Volume = 15625\n",
    "S, Surface = 3750\n",
    "```"
   ]
  },
  {
   "cell_type": "markdown",
   "id": "f51a50bc",
   "metadata": {},
   "source": [
    "### Exercise 9 (8 points)"
   ]
  },
  {
   "cell_type": "markdown",
   "id": "fb11b66b",
   "metadata": {},
   "source": [
    "__Function value__. Write a program that, given the integer values `a` and `b`, calculates the value of the following expression:"
   ]
  },
  {
   "cell_type": "markdown",
   "id": "7f2ec992",
   "metadata": {},
   "source": [
    "$$\n",
    "  3(a+b)^3+275b^2-127a-41\n",
    "$$  "
   ]
  },
  {
   "cell_type": "markdown",
   "id": "d6d5646e",
   "metadata": {},
   "source": [
    "__Input:__\n",
    "The program receives two integers as input (each on a separate line): `a` and `b` "
   ]
  },
  {
   "cell_type": "markdown",
   "id": "36aaa147",
   "metadata": {},
   "source": [
    "__Output__\n",
    "The program should output the value of the function based on the entered numbers `a` and `b`"
   ]
  },
  {
   "cell_type": "markdown",
   "id": "b3267fdb",
   "metadata": {},
   "source": [
    "Example 1\n",
    "\n",
    "```\n",
    "Sample Input 1:\n",
    "1\n",
    "1\n",
    "```"
   ]
  },
  {
   "cell_type": "markdown",
   "id": "6c0db2f3",
   "metadata": {},
   "source": [
    "```\n",
    "Sample Output 1:\n",
    "\n",
    "131\n",
    "```"
   ]
  }
 ],
 "metadata": {
  "celltoolbar": "Raw Cell Format",
  "kernelspec": {
   "display_name": "Python 3 (ipykernel)",
   "language": "python",
   "name": "python3"
  },
  "language_info": {
   "codemirror_mode": {
    "name": "ipython",
    "version": 3
   },
   "file_extension": ".py",
   "mimetype": "text/x-python",
   "name": "python",
   "nbconvert_exporter": "python",
   "pygments_lexer": "ipython3",
   "version": "3.10.9"
  }
 },
 "nbformat": 4,
 "nbformat_minor": 5
}
