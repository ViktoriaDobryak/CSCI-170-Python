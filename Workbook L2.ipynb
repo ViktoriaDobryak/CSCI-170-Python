{
 "cells": [
  {
   "cell_type": "markdown",
   "id": "f2325acd",
   "metadata": {},
   "source": [
    "# Workbook 2\n",
    "# More about `print()`"
   ]
  },
  {
   "cell_type": "markdown",
   "id": "ad93b8c0",
   "metadata": {},
   "source": [
    "By default, the `print()` command takes multiple arguments, prints them separated by a single space, and then inserts a new line. You can change this behavior by using the optional named parameters `sep` and `end`."
   ]
  },
  {
   "cell_type": "markdown",
   "id": "aee81a9f",
   "metadata": {},
   "source": [
    "``` python\n",
    "print('aa', 'bb', 'cc')\n",
    "```"
   ]
  },
  {
   "cell_type": "markdown",
   "id": "17b1110b",
   "metadata": {},
   "source": [
    "The result of running this code will be:"
   ]
  },
  {
   "cell_type": "markdown",
   "id": "713a9ed2",
   "metadata": {},
   "source": [
    "```\n",
    "aa bb cc\n",
    "```"
   ]
  },
  {
   "cell_type": "markdown",
   "id": "6a736f2f",
   "metadata": {},
   "source": [
    "As you can see, all the lines are output with a space between each other - this is not a random behavior. The `print()` command has a parameter that is responsible for separating arguments during output. This parameter is called `sep` (separator). The default value for this parameter is the __space character__. The following lines of code are equivalent:"
   ]
  },
  {
   "cell_type": "markdown",
   "id": "f8c8190c",
   "metadata": {},
   "source": [
    "```python\n",
    "print('aa', 'bb', 'cc')\n",
    "\n",
    "print('aa', 'bb', 'cc', sep=' ')\n",
    "```"
   ]
  },
  {
   "cell_type": "markdown",
   "id": "30d1ab78",
   "metadata": {},
   "source": [
    "We can change the `sep` parameter to any other string, for example, to an asterisk `*`."
   ]
  },
  {
   "cell_type": "markdown",
   "id": "6eac98da",
   "metadata": {},
   "source": [
    "Try this"
   ]
  },
  {
   "cell_type": "markdown",
   "id": "ea83acce",
   "metadata": {},
   "source": [
    "```python\n",
    "print('aa', 'bb', 'cc', sep='*')\n",
    "```"
   ]
  },
  {
   "cell_type": "markdown",
   "id": "c8de3a26",
   "metadata": {},
   "source": [
    "By default, `print()` appends a `\\n` to the end of the output. The `end` parameter allows you to change this."
   ]
  },
  {
   "cell_type": "markdown",
   "id": "40074f3b",
   "metadata": {},
   "source": [
    "Try this"
   ]
  },
  {
   "cell_type": "markdown",
   "id": "dee7a948",
   "metadata": {},
   "source": [
    "```python\n",
    "print(\"Hello, Ninja!\", end = ' ')\n",
    "print(1,2)\n",
    "```"
   ]
  },
  {
   "cell_type": "markdown",
   "id": "8a7b24e4",
   "metadata": {},
   "source": [
    "You can use `sep` and `end` together to generate lists, CSV output, bulleted lists, and more."
   ]
  },
  {
   "cell_type": "markdown",
   "id": "3946f564",
   "metadata": {},
   "source": [
    "Try this"
   ]
  },
  {
   "cell_type": "markdown",
   "id": "2794ef57",
   "metadata": {},
   "source": [
    "```python\n",
    "print (\"Hello, RU student!\", \"How are you doing?\", sep = ' ', end = ' ')\n",
    "print(\"This class is amazing\")\n",
    "```"
   ]
  },
  {
   "cell_type": "markdown",
   "id": "19d7acbd",
   "metadata": {},
   "source": [
    "### Exercise 1 (1 point)"
   ]
  },
  {
   "cell_type": "markdown",
   "id": "2660cfac",
   "metadata": {},
   "source": [
    "Write code that uses one `print` comand. Use numbers as arguments and delimiter `/`, specifed with `sep` or `end`. The output should look like:"
   ]
  },
  {
   "cell_type": "markdown",
   "id": "9c0ecc32",
   "metadata": {},
   "source": [
    "```\n",
    "12/30/2024\n",
    "```"
   ]
  },
  {
   "cell_type": "markdown",
   "id": "d3163dd2",
   "metadata": {},
   "source": [
    "### Exercise 2 (2 points)"
   ]
  },
  {
   "cell_type": "markdown",
   "id": "ea37a1e7",
   "metadata": {},
   "source": [
    "Write code using two `print` comands. The first print must to have 2 value arguments. They are <span style='color: red;'>Mercury</span> and <span style='color: red;'>Venus</span>. The second print must to have <span style='color: red;'>Mars</span> and <span style='color: red;'>Jupiter</span> as an arguments. Specify symbols  `*`,`!`,`?` with `sep` and/or `end` parameter. The output should look like:"
   ]
  },
  {
   "cell_type": "markdown",
   "id": "46c6571d",
   "metadata": {},
   "source": [
    "```\n",
    "Mercury*Venus!Mars**Jupiter?\n",
    "```"
   ]
  },
  {
   "cell_type": "markdown",
   "id": "51977cbd",
   "metadata": {},
   "source": [
    "### Exercise 3 (2 points)"
   ]
  },
  {
   "cell_type": "markdown",
   "id": "b8973340",
   "metadata": {},
   "source": [
    "Write a program that displays the following text:"
   ]
  },
  {
   "cell_type": "markdown",
   "id": "a50a4905",
   "metadata": {},
   "source": [
    "```\n",
    "I***like***Python\n",
    "```"
   ]
  },
  {
   "cell_type": "markdown",
   "id": "e24d1420",
   "metadata": {},
   "source": [
    "__Note__: Use `sep` parameter."
   ]
  },
  {
   "cell_type": "markdown",
   "id": "c73fad5d",
   "metadata": {},
   "source": [
    "### Exercise 4 (2 points)"
   ]
  },
  {
   "cell_type": "markdown",
   "id": "dbbddefa",
   "metadata": {},
   "source": [
    "__Fix the code: Print a single line__\n",
    "Each `print` command usually prints out a line of its own, complete with a change of line at the end. Remember, if the print command is given an additional argument `end = \"\"`, it will not print a line change."
   ]
  },
  {
   "cell_type": "markdown",
   "id": "8b3b5856",
   "metadata": {},
   "source": [
    "Please fix this program so that the entire calculation, complete with result, is printed out on a single line. __Do not change the number of print commands used.__"
   ]
  },
  {
   "cell_type": "markdown",
   "id": "debc5347",
   "metadata": {},
   "source": [
    "```python\n",
    "print(5)\n",
    "print(\" + \")\n",
    "print(8)\n",
    "print(\" - \")\n",
    "print(4)\n",
    "print(\" = \")\n",
    "print(5 + 8 - 4)\n",
    "```"
   ]
  },
  {
   "cell_type": "markdown",
   "id": "4a906345",
   "metadata": {},
   "source": [
    "### Exercise 5 (2 points)"
   ]
  },
  {
   "cell_type": "markdown",
   "id": "c0efb3d9",
   "metadata": {},
   "source": [
    "Fix the code with f-string formating"
   ]
  },
  {
   "cell_type": "markdown",
   "id": "49749fca",
   "metadata": {},
   "source": [
    "```python\n",
    "name = \"Mark\"\n",
    "age = 37\n",
    "city = \"Palo Alto\"\n",
    "print(f\"Hi ,name,, you are ,age, years old. You live in ,city,.\")\n",
    "```"
   ]
  },
  {
   "cell_type": "markdown",
   "id": "7f07454b",
   "metadata": {},
   "source": [
    "Required result:"
   ]
  },
  {
   "cell_type": "markdown",
   "id": "36bd9d7a",
   "metadata": {},
   "source": [
    "```\n",
    "Hi Mark, you are 37 years old. You live in Palo Alto.\n",
    "```"
   ]
  },
  {
   "cell_type": "markdown",
   "id": "ab642715",
   "metadata": {},
   "source": [
    "### Exercise 6 (2 points)"
   ]
  },
  {
   "cell_type": "markdown",
   "id": "83ceb714",
   "metadata": {},
   "source": [
    "Your friend is working on an app for jobseekers. She sends you this bit of code:"
   ]
  },
  {
   "cell_type": "markdown",
   "id": "98d31ea9",
   "metadata": {},
   "source": [
    "```python\n",
    "name = \"Tim Tester\"\n",
    "age = 20\n",
    "skill1 = \"python\"\n",
    "level1 = \"beginner\"\n",
    "skill2 = \"java\"\n",
    "level2 = \"veteran\"\n",
    "skill3 = \"programming\"\n",
    "level3 = \"semiprofessional\"\n",
    "lower = 2000\n",
    "upper = 3000\n",
    "\n",
    "print(\"my name is \", name, \" , I am \", age, \"years old\")\n",
    "print(\"my skills are\")\n",
    "print(\" - \", skill1, \" (\", level1, \")\")\n",
    "print(\" - \", skill2, \" (\", level2, \")\")\n",
    "print(\" - \", skill3, \" (\", level3, \" )\")\n",
    "print(\"I am looking for a job with a salary of\", lower, \"-\", upper, \"euros per month\")\n",
    "```"
   ]
  },
  {
   "cell_type": "markdown",
   "id": "43a90fd6",
   "metadata": {},
   "source": [
    "The program should print out <span style='color: red;'>exactly</span>  the following:"
   ]
  },
  {
   "cell_type": "markdown",
   "id": "786e20a1",
   "metadata": {},
   "source": [
    "```\n",
    "my name is Tim Tester, I am 20 years old\n",
    "\n",
    "my skills are\n",
    " - python (beginner)\n",
    " - java (veteran)\n",
    " - programming (semiprofessional)\n",
    "\n",
    "I am looking for a job with a salary of 2000-3000 euros per month\n",
    "```"
   ]
  },
  {
   "cell_type": "markdown",
   "id": "d156609b",
   "metadata": {},
   "source": [
    "The code works almost correctly, but not quite. \n",
    "\n",
    "Please fix the code so that the printout looks right. \n",
    "Notice especially how the comma notation in the print command automatically inserts a space around the different comma-separated parts.\n",
    "\n",
    "The easiest way to transform the code so that it meets requirements is to use `f-strings`.\n",
    "\n",
    "__Hint__: you can print an empty line by adding an empty `print()` command, or by adding the newline character `\\n` into your string."
   ]
  },
  {
   "cell_type": "markdown",
   "id": "5f33640d",
   "metadata": {},
   "source": [
    "***"
   ]
  },
  {
   "cell_type": "markdown",
   "id": "c7567e22",
   "metadata": {},
   "source": [
    "### Exercise 7 (2 points)"
   ]
  },
  {
   "cell_type": "markdown",
   "id": "c7277e44",
   "metadata": {},
   "source": [
    "Consider the two following programs. The main goal here is to *exchange variable values*. Write your explanation as to why one of the program does not work."
   ]
  },
  {
   "cell_type": "markdown",
   "id": "5af94197",
   "metadata": {},
   "source": [
    "__Program 1__\n",
    "\n",
    "```python\n",
    "name1 = 'Tom'\n",
    "name2 = 'Rick'\n",
    "\n",
    "name1, name2 = name2, name1\n",
    "```"
   ]
  },
  {
   "cell_type": "markdown",
   "id": "dc5c02bd",
   "metadata": {},
   "source": [
    "__Program 2__\n",
    "\n",
    "```python\n",
    "name1 = 'Tom'\n",
    "name2 = 'Rick'\n",
    "\n",
    "name1 = name2\n",
    "name2 = name1\n",
    "```"
   ]
  },
  {
   "cell_type": "markdown",
   "id": "aa8c1657",
   "metadata": {},
   "source": [
    "### Exercise 8 (3 points)"
   ]
  },
  {
   "cell_type": "markdown",
   "id": "8af72a13",
   "metadata": {},
   "source": [
    "This program already contains two integer variables, `x` and `y`:"
   ]
  },
  {
   "cell_type": "markdown",
   "id": "154337b1",
   "metadata": {},
   "source": [
    "```python\n",
    "x = 27\n",
    "y = 15\n",
    "\n",
    "print(x)\n",
    "print(y)\n",
    "```"
   ]
  },
  {
   "cell_type": "markdown",
   "id": "eff2e49a",
   "metadata": {},
   "source": [
    "Please complete the program so that it also prints out the following:"
   ]
  },
  {
   "cell_type": "markdown",
   "id": "f8e3ee79",
   "metadata": {},
   "source": [
    "```\n",
    "27 + 15 = 42\n",
    "27 - 15 = 12\n",
    "27 * 15 = 405\n",
    "27 / 15 = 1.8\n",
    "```"
   ]
  },
  {
   "cell_type": "markdown",
   "id": "d5b2b2eb",
   "metadata": {},
   "source": [
    "The program should work correctly even if the values of the variables are changed. That is, if the first two lines are replaced with this"
   ]
  },
  {
   "cell_type": "markdown",
   "id": "38551a71",
   "metadata": {},
   "source": [
    "```python\n",
    "x = 4\n",
    "y = 9\n",
    "```"
   ]
  },
  {
   "cell_type": "markdown",
   "id": "44b1f8ac",
   "metadata": {},
   "source": [
    "the program should print out the following:"
   ]
  },
  {
   "cell_type": "markdown",
   "id": "c4ea2ef8",
   "metadata": {},
   "source": [
    "```\n",
    "4 + 9 = 13\n",
    "4 - 9 = -5\n",
    "4 * 9 = 36\n",
    "4 / 9 = 0.4444444444444444\n",
    "```"
   ]
  },
  {
   "cell_type": "markdown",
   "id": "2fbf8e84",
   "metadata": {},
   "source": [
    "Note: Python also has an integer division operator `//`. If the operands are __integers__, it will produce __an integer__. The result is rounded down to the nearest integer. \n",
    "\n",
    "For example this program:"
   ]
  },
  {
   "cell_type": "markdown",
   "id": "1ac381aa",
   "metadata": {},
   "source": [
    "```python\n",
    "x = 3\n",
    "y = 2\n",
    "\n",
    "print(f\"/ operator {x/y}\")\n",
    "print(f\"// operator {x//y}\")\n",
    "```"
   ]
  },
  {
   "cell_type": "markdown",
   "id": "db568df9",
   "metadata": {},
   "source": [
    "Prints out:"
   ]
  },
  {
   "cell_type": "markdown",
   "id": "f9aeaa1d",
   "metadata": {},
   "source": [
    "```\n",
    "/ operator 1.5\n",
    "// operator 1\n",
    "```"
   ]
  }
 ],
 "metadata": {
  "celltoolbar": "Raw Cell Format",
  "kernelspec": {
   "display_name": "Python 3 (ipykernel)",
   "language": "python",
   "name": "python3"
  },
  "language_info": {
   "codemirror_mode": {
    "name": "ipython",
    "version": 3
   },
   "file_extension": ".py",
   "mimetype": "text/x-python",
   "name": "python",
   "nbconvert_exporter": "python",
   "pygments_lexer": "ipython3",
   "version": "3.10.9"
  }
 },
 "nbformat": 4,
 "nbformat_minor": 5
}
