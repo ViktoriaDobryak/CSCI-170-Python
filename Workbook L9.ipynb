{
 "cells": [
  {
   "cell_type": "markdown",
   "id": "959cc6b1",
   "metadata": {},
   "source": [
    "# Workbook 9\n",
    "# Functions"
   ]
  },
  {
   "cell_type": "markdown",
   "id": "9fb2d95e",
   "metadata": {},
   "source": [
    "### Exercise 1 (1 point)"
   ]
  },
  {
   "cell_type": "markdown",
   "id": "c50c250e",
   "metadata": {},
   "source": [
    "__Mean.__ Please write a function named __mean__, which takes three integer arguments. \n",
    "\n",
    "The function should print out the arithmetic mean of the three arguments."
   ]
  },
  {
   "cell_type": "markdown",
   "id": "dd595de0",
   "metadata": {},
   "source": [
    "``` python\n",
    "mean(5, 3, 1)\n",
    "mean(10, 1, 1)\n",
    "```"
   ]
  },
  {
   "cell_type": "markdown",
   "id": "aef2abe3",
   "metadata": {},
   "source": [
    "This should print out:\n",
    "```\n",
    "3.0\n",
    "4.0\n",
    "```"
   ]
  },
  {
   "cell_type": "markdown",
   "id": "e5730dec",
   "metadata": {},
   "source": [
    "### Exercise 2 (1 point)"
   ]
  },
  {
   "cell_type": "markdown",
   "id": "489ff052",
   "metadata": {},
   "source": [
    "__Print many times__. Please write a function named __print_many_times(text, times)__, which takes a string and an integer as arguments. \n",
    "\n",
    "The integer argument specifies how many times the string argument should be printed out:"
   ]
  },
  {
   "cell_type": "markdown",
   "id": "68d7e52b",
   "metadata": {},
   "source": [
    "``` python\n",
    "print_many_times(\"hi\", 5)\n",
    "\n",
    "print()\n",
    "\n",
    "text = \"All Pythons, except one, grow up\"\n",
    "times = 3\n",
    "print_many_times(text, times)\n",
    "```"
   ]
  },
  {
   "cell_type": "markdown",
   "id": "920b2f67",
   "metadata": {},
   "source": [
    "```\n",
    "hi\n",
    "hi\n",
    "hi\n",
    "hi\n",
    "hi\n",
    "\n",
    "All Pythons, except one, grow up.\n",
    "All Pythons, except one, grow up.\n",
    "All Pythons, except one, grow up.\n",
    "```"
   ]
  },
  {
   "cell_type": "markdown",
   "id": "ccbcb92f",
   "metadata": {},
   "source": [
    "### Exercise 3 (4 points)"
   ]
  },
  {
   "cell_type": "markdown",
   "id": "fa25f5aa",
   "metadata": {},
   "source": [
    "__A square of hashes__. Please write a function named __hash_square(length)__, which takes an integer argument. \n",
    "\n",
    "The function prints out a square of hash characters, and the argument specifies the length of the side of the square."
   ]
  },
  {
   "cell_type": "markdown",
   "id": "0c74fde4",
   "metadata": {},
   "source": [
    "```python\n",
    "hash_square(3)\n",
    "print()\n",
    "hash_square(5)\n",
    "```"
   ]
  },
  {
   "cell_type": "markdown",
   "id": "16cd4138",
   "metadata": {},
   "source": [
    "```\n",
    "###\n",
    "###\n",
    "###\n",
    "\n",
    "#####\n",
    "#####\n",
    "#####\n",
    "#####\n",
    "#####\n",
    "```"
   ]
  },
  {
   "cell_type": "markdown",
   "id": "1615b858",
   "metadata": {},
   "source": [
    "### Exercise 4 (5 points)"
   ]
  },
  {
   "cell_type": "markdown",
   "id": "2f45bef7",
   "metadata": {},
   "source": [
    "__Chessboard__   \n",
    "\n",
    "Please write a function named __chessboard__, which prints out a chessboard made out of ones and zeroes. \n",
    "\n",
    "The function takes an integer argument, which specifies the length of the side of the board. See the examples below for details:"
   ]
  },
  {
   "cell_type": "markdown",
   "id": "bf2969c2",
   "metadata": {},
   "source": [
    "```python\n",
    "chessboard(3)\n",
    "print()\n",
    "chessboard(6)\n",
    "```"
   ]
  },
  {
   "cell_type": "markdown",
   "id": "18c2f8c1",
   "metadata": {},
   "source": [
    "```\n",
    "101\n",
    "010\n",
    "101\n",
    "\n",
    "101010\n",
    "010101\n",
    "101010\n",
    "010101\n",
    "101010\n",
    "010101\n",
    "```"
   ]
  },
  {
   "cell_type": "markdown",
   "id": "c312aa9c",
   "metadata": {},
   "source": [
    "### Exercise 5 (5 points)"
   ]
  },
  {
   "cell_type": "markdown",
   "id": "e086be5c",
   "metadata": {},
   "source": [
    "__A spruce__   \n",
    "\n",
    "Please write a function named __spruce__, which takes one argument. The function prints out the text a <i> spruce! </i>, and the a spruce tree, the size of which is specified by the argument.\n",
    "\n",
    "Calling __spruce(3)__ should print out"
   ]
  },
  {
   "cell_type": "markdown",
   "id": "32750b7a",
   "metadata": {},
   "source": [
    "```\n",
    "a spruce!\n",
    "  *\n",
    " ***\n",
    "*****\n",
    "  *\n",
    "```"
   ]
  },
  {
   "cell_type": "markdown",
   "id": "96ea5d31",
   "metadata": {},
   "source": [
    "Calling __spruce(5)__ should print out"
   ]
  },
  {
   "cell_type": "markdown",
   "id": "b2437440",
   "metadata": {},
   "source": [
    "```\n",
    "a spruce!\n",
    "    *\n",
    "   ***\n",
    "  *****\n",
    " *******\n",
    "*********\n",
    "    *\n",
    "```"
   ]
  },
  {
   "cell_type": "markdown",
   "id": "c0727dfc",
   "metadata": {},
   "source": [
    "__NB: to the left of the spruce there should be exactly the right amount of whitespace.__\n",
    "    \n",
    "If the shape of the spruce looks correct, but the left edge of the tree is not touching the left edge of the text area in the terminal, \n",
    "\n",
    "the tests will not accept the solution."
   ]
  },
  {
   "cell_type": "markdown",
   "id": "3c91f428",
   "metadata": {},
   "source": [
    "### Exercise 6 (5 points)"
   ]
  },
  {
   "cell_type": "markdown",
   "id": "9dcb0915",
   "metadata": {},
   "source": [
    "__The greatest number__.\n",
    "\n",
    "Please write a function named __greatest_number__, which takes three arguments. The function returns the greatest in value of the three.\n",
    "\n",
    "An example of how the function is used:"
   ]
  },
  {
   "cell_type": "markdown",
   "id": "4277e564",
   "metadata": {},
   "source": [
    "```python\n",
    "print(greatest_number(3, 4, 1)) # 4\n",
    "print(greatest_number(99, -4, 7)) # 99\n",
    "print(greatest_number(0, 0, 0)) # 0\n",
    "```"
   ]
  },
  {
   "cell_type": "markdown",
   "id": "f2388904",
   "metadata": {},
   "source": [
    "### Exercise 7 (5 points)"
   ]
  },
  {
   "cell_type": "markdown",
   "id": "12481517",
   "metadata": {},
   "source": [
    "__Same characters__\n",
    "\n",
    "Please write a function named __same_chars__, which takes one string and two integers as arguments. The integers refer to indexes within the string. The function should return __True__ if the two characters at the indexes specified are the same. Otherwise, and especially if either of the indexes falls outside the scope of the string, the function returns __False__.\n",
    "\n",
    "Some examples of how the function is used:"
   ]
  },
  {
   "cell_type": "markdown",
   "id": "8b6c5257",
   "metadata": {},
   "source": [
    "```python\n",
    "# same characters m and m\n",
    "print(same_chars(\"programmer\", 6, 7)) # True\n",
    "\n",
    "# different characters p and r\n",
    "print(same_chars(\"programmer\", 0, 4)) # False\n",
    "\n",
    "# the second index is not within the string\n",
    "print(same_chars(\"programmer\", 0, 12)) # False\n",
    "```"
   ]
  },
  {
   "cell_type": "markdown",
   "id": "0f2437a3",
   "metadata": {},
   "source": [
    "### Exercise 8 (5 points)"
   ]
  },
  {
   "cell_type": "markdown",
   "id": "8dce7eef",
   "metadata": {},
   "source": [
    "__First, second and last words__\n",
    "\n",
    "Please write three functions: __first_word__ , __second_word__ and __last_word__. Each function takes a string argument.\n",
    "\n",
    "As their names imply, the functions return either the first, the second or the last word in the sentence they receive as their string argument.\n",
    "\n",
    "In each case you may assume the argument string contains at least two separate words, and all words are separated by exactly one space character. There will be no spaces in the beginning or at the end of the argument strings."
   ]
  },
  {
   "cell_type": "markdown",
   "id": "c8295300",
   "metadata": {},
   "source": [
    "```python\n",
    "sentence = \"it was a dark and stormy python\"\n",
    "\n",
    "print(first_word(sentence)) # it\n",
    "print(second_word(sentence)) # was\n",
    "print(last_word(sentence)) # python\n",
    "```"
   ]
  },
  {
   "cell_type": "markdown",
   "id": "2c6ef38b",
   "metadata": {},
   "source": [
    "```python\n",
    "sentence = \"it was\"\n",
    "\n",
    "print(second_word(sentence)) # was\n",
    "print(last_word(sentence)) # was\n",
    "```"
   ]
  }
 ],
 "metadata": {
  "kernelspec": {
   "display_name": "Python 3 (ipykernel)",
   "language": "python",
   "name": "python3"
  },
  "language_info": {
   "codemirror_mode": {
    "name": "ipython",
    "version": 3
   },
   "file_extension": ".py",
   "mimetype": "text/x-python",
   "name": "python",
   "nbconvert_exporter": "python",
   "pygments_lexer": "ipython3",
   "version": "3.10.9"
  }
 },
 "nbformat": 4,
 "nbformat_minor": 5
}
