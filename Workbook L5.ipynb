{
 "cells": [
  {
   "cell_type": "markdown",
   "id": "959cc6b1",
   "metadata": {},
   "source": [
    "# Workbook 5\n",
    "# Conditional Statement"
   ]
  },
  {
   "cell_type": "markdown",
   "id": "9fb2d95e",
   "metadata": {},
   "source": [
    "### Exercise 1 (1 point)"
   ]
  },
  {
   "cell_type": "markdown",
   "id": "c50c250e",
   "metadata": {},
   "source": [
    "__Orwell.__ Please write a program which asks the user for an integer number. \n",
    "\n",
    "The program should print out __\"Orwell\"__ if the number is exactly __1984___, and otherwise do nothing."
   ]
  },
  {
   "cell_type": "markdown",
   "id": "8db58652",
   "metadata": {},
   "source": [
    "For example, if the program input is given the following lines:"
   ]
  },
  {
   "cell_type": "markdown",
   "id": "dd595de0",
   "metadata": {},
   "source": [
    "```Please type in a number: 2020```"
   ]
  },
  {
   "cell_type": "markdown",
   "id": "aef2abe3",
   "metadata": {},
   "source": [
    "``` ```"
   ]
  },
  {
   "cell_type": "markdown",
   "id": "e0a323f8",
   "metadata": {},
   "source": [
    "``` Please type in a number: 1984 ```\n",
    "\n",
    "Orwell"
   ]
  },
  {
   "cell_type": "markdown",
   "id": "e5730dec",
   "metadata": {},
   "source": [
    "### Exercise 2 (1 point)"
   ]
  },
  {
   "cell_type": "markdown",
   "id": "489ff052",
   "metadata": {},
   "source": [
    "__Calculator__ Please write a program which asks the user for two numbers and an operation. \n",
    "If the operation is add, multiply or subtract, \n",
    "the program should calculate and print out the result of the operation with the given numbers. \n",
    "If the user types in anything else, the program should print out nothing.\n",
    "\n",
    "Some examples of expected behaviour:"
   ]
  },
  {
   "cell_type": "markdown",
   "id": "68d7e52b",
   "metadata": {},
   "source": [
    "```\n",
    "Number 1: 10\n",
    "Number 2: 17\n",
    "Operation: add\n",
    "\n",
    "10 + 17 = 27\n",
    "```"
   ]
  },
  {
   "cell_type": "markdown",
   "id": "9c4acfe1",
   "metadata": {},
   "source": [
    "```\n",
    "Number 1: 4\n",
    "Number 2: 6\n",
    "Operation: multiply\n",
    "\n",
    "4 * 6 = 24\n",
    "```"
   ]
  },
  {
   "cell_type": "markdown",
   "id": "180191e9",
   "metadata": {},
   "source": [
    "```\n",
    "Number 1: 4\n",
    "Number 2: 6\n",
    "Operation: subtract\n",
    "\n",
    "4 - 6 = -2\n",
    "```"
   ]
  },
  {
   "cell_type": "markdown",
   "id": "ccbcb92f",
   "metadata": {},
   "source": [
    "### Exercise 3 (1 point)"
   ]
  },
  {
   "cell_type": "markdown",
   "id": "fa25f5aa",
   "metadata": {},
   "source": [
    "Please write a program which asks the user for an integer number. \n",
    "\n",
    "The program should then print out the magnitude of the number according to the following examples."
   ]
  },
  {
   "cell_type": "markdown",
   "id": "0c74fde4",
   "metadata": {},
   "source": [
    "```\n",
    "Please type in a number: 950\n",
    "This number is smaller than 1000\n",
    "Thank you!\n",
    "```"
   ]
  },
  {
   "cell_type": "markdown",
   "id": "d0eed4e4",
   "metadata": {},
   "source": [
    "```\n",
    "Please type in a number: 59\n",
    "This number is smaller than 1000\n",
    "This number is smaller than 100\n",
    "Thank you!\n",
    "```"
   ]
  },
  {
   "cell_type": "markdown",
   "id": "171b6675",
   "metadata": {},
   "source": [
    "```\n",
    "Please type in a number: 2\n",
    "This number is smaller than 1000\n",
    "This number is smaller than 100\n",
    "This number is smaller than 10\n",
    "Thank you!\n",
    "```"
   ]
  },
  {
   "cell_type": "markdown",
   "id": "29d81be4",
   "metadata": {},
   "source": [
    "```\n",
    "Please type in a number: 1123\n",
    "Thank you!\n",
    "```"
   ]
  },
  {
   "cell_type": "markdown",
   "id": "1615b858",
   "metadata": {},
   "source": [
    "### Exercise 4 (1 point)"
   ]
  },
  {
   "cell_type": "markdown",
   "id": "2f45bef7",
   "metadata": {},
   "source": [
    "__Absolute value___ Please write a program which asks the user for an __integer__ number. \n",
    "If the number is __less than zero__, the program should print out the number multiplied by -1. \n",
    "___Otherwise___ the program prints out the number as is. \n",
    "Please have a look at the examples of expected behaviour below."
   ]
  },
  {
   "cell_type": "markdown",
   "id": "0923cd22",
   "metadata": {},
   "source": [
    "### Exercise 5 (1 point)"
   ]
  },
  {
   "cell_type": "markdown",
   "id": "9279313d",
   "metadata": {},
   "source": [
    "__Soup or no soup__ Please write a program which asks for the user's name. If the name is anything but \"Jerry\", the program then asks for the number of portions and prints out the total cost. The price of a single portion is 5.90.\n",
    "\n",
    "Two examples of the program's execution:"
   ]
  },
  {
   "cell_type": "markdown",
   "id": "28f5b670",
   "metadata": {},
   "source": [
    "```\n",
    "Please tell me your name: Kramer\n",
    "How many portions of soup? 2\n",
    "The total cost is 11.8\n",
    "Next please!\n",
    "```"
   ]
  },
  {
   "cell_type": "markdown",
   "id": "f6d5dd06",
   "metadata": {},
   "source": [
    "```\n",
    "Please tell me your name: Jerry\n",
    "Next please!\n",
    "```"
   ]
  },
  {
   "cell_type": "markdown",
   "id": "43d3e773",
   "metadata": {},
   "source": [
    "### Exercise 6 (2 points)"
   ]
  },
  {
   "cell_type": "markdown",
   "id": "1677a2ad",
   "metadata": {},
   "source": [
    "__Temperatures__ Please write a program which asks the user for a temperature in degrees Fahrenheit, and then prints out the same in degrees Celsius. \n",
    "If the converted temperature falls below zero degrees Celsius, the program should also print out \"Brr! It's cold in here!\".\n",
    "\n",
    "The formula for converting degrees Fahrenheit to degrees Celsius:\n"
   ]
  },
  {
   "cell_type": "markdown",
   "id": "f08a4a30",
   "metadata": {},
   "source": [
    "$$\n",
    "  \\frac{5}{9}(F-32)\n",
    "$$  "
   ]
  },
  {
   "cell_type": "markdown",
   "id": "c2b2df29",
   "metadata": {},
   "source": [
    "Two examples of expected behaviour:"
   ]
  },
  {
   "cell_type": "markdown",
   "id": "4f3c34ee",
   "metadata": {},
   "source": [
    "```\n",
    "Please type in a temperature (F): 101\n",
    "101 degrees Fahrenheit equals 38.333333333333336 degrees Celsius\n",
    "\n",
    "Please type in a temperature (F): 21\n",
    "21 degrees Fahrenheit equals -6.111111111111111 degrees Celsius\n",
    "Brr! It's cold in here!\n",
    "```"
   ]
  },
  {
   "cell_type": "markdown",
   "id": "74cfb513",
   "metadata": {},
   "source": [
    "### Exercise 7 (2 points)"
   ]
  },
  {
   "cell_type": "markdown",
   "id": "7481281f",
   "metadata": {},
   "source": [
    "__Daily wage__ Please write a program which asks for the hourly wage, hours worked, and the day of the week. \n",
    "The program should then print out the daily wages, which equal hourly wage multiplied by hours worked, except on Sundays when the hourly wage is doubled."
   ]
  },
  {
   "cell_type": "markdown",
   "id": "56e6cb06",
   "metadata": {},
   "source": [
    "```\n",
    "Hourly wage: 8.5\n",
    "Hours worked: 3\n",
    "Day of the week: Monday\n",
    "Daily wages: 25.5 euros\n",
    "```"
   ]
  },
  {
   "cell_type": "markdown",
   "id": "5c742208",
   "metadata": {},
   "source": [
    "```\n",
    "Hourly wage: 12.5\n",
    "Hours worked: 10\n",
    "Day of the week: Sunday\n",
    "Daily wages: 250.0 euros\n",
    "```"
   ]
  },
  {
   "cell_type": "markdown",
   "id": "55085c8a",
   "metadata": {},
   "source": [
    "### Exercise 8 (2 points)"
   ]
  },
  {
   "cell_type": "markdown",
   "id": "3bb4f554",
   "metadata": {},
   "source": [
    "__Loyalty bonus__ \n",
    "This program calculates the end of year bonus a customer receives on their loyalty card. \n",
    "\n",
    "The bonus is calculated with the following formula:\n",
    "\n",
    " <li> If there are less than a hundred points on the card, the bonus is 10 % </li>\n",
    "<li> In any other case the bonus is 15 % </li>\n",
    "\n",
    "The program __should work__ like this:"
   ]
  },
  {
   "cell_type": "markdown",
   "id": "53009fd6",
   "metadata": {},
   "source": [
    "```\n",
    "How many points are on your card? 55\n",
    "Your bonus is 10 %\n",
    "You now have 60.5 points\n",
    "```"
   ]
  },
  {
   "cell_type": "markdown",
   "id": "1e4a336a",
   "metadata": {},
   "source": [
    "But there is a problem with the program, so with some inputs __it doesn't work__ quite right:"
   ]
  },
  {
   "cell_type": "markdown",
   "id": "dbed8a42",
   "metadata": {},
   "source": [
    "```\n",
    "How many points are on your card? 95\n",
    "Your bonus is 10 %\n",
    "Your bonus is 15 %\n",
    "You now have 120.175 points\n",
    "```"
   ]
  },
  {
   "cell_type": "markdown",
   "id": "661f5553",
   "metadata": {},
   "source": [
    "Please fix the program so that there is always either a 10 % or a 15 % bonus, but never both."
   ]
  },
  {
   "cell_type": "markdown",
   "id": "7b7182d7",
   "metadata": {},
   "source": [
    "__Program to fix__"
   ]
  },
  {
   "cell_type": "markdown",
   "id": "20f318ea",
   "metadata": {},
   "source": [
    "``` python\n",
    "# Wrong Version\n",
    "\n",
    "# Asking the user for the number of points on the card\n",
    "points = float(input(\"How many points are on your card? \"))\n",
    "\n",
    "# less than 100 case\n",
    "if points < 100:\n",
    "    print(\"Your bonus is 10 %\")\n",
    "    # Adding the bonus to the points\n",
    "    new_points = points + (points * 0.10) # 10% bonus\n",
    "\n",
    "# Any other case\n",
    "print(\"Your bonus is 15 %\")\n",
    "# Adding the bonus to the points\n",
    "new_points = points + (points * 0.15) # 15% bonus\n",
    "\n",
    "# Printing the new total of points\n",
    "print(f\"You now have {new_points} points\")\n",
    "```\n"
   ]
  },
  {
   "cell_type": "markdown",
   "id": "376596dd",
   "metadata": {},
   "source": [
    "### Exercise 9 (3 points)"
   ]
  },
  {
   "cell_type": "markdown",
   "id": "87bf5cb2",
   "metadata": {},
   "source": [
    "__What to wear tomorrow__"
   ]
  },
  {
   "cell_type": "markdown",
   "id": "2080b096",
   "metadata": {},
   "source": [
    "Please write a program which asks for tomorrow's weather forecast and then suggests weather-appropriate clothing.\n",
    "\n",
    "The suggestion should change if the temperature (measured in degrees Celsius) \n",
    "is over 20, 10 or 5 degrees, \n",
    "and also if there is rain on the radar.\n",
    "\n",
    "\n",
    "Some examples of expected behaviour:\n",
    "\n"
   ]
  },
  {
   "cell_type": "markdown",
   "id": "70cd6125",
   "metadata": {},
   "source": [
    "```\n",
    "What is the weather forecast for tomorrow?\n",
    "Temperature: 21\n",
    "Will it rain (yes/no): no\n",
    "Wear jeans and a T-shirt\n",
    "```"
   ]
  },
  {
   "cell_type": "markdown",
   "id": "3b06d613",
   "metadata": {},
   "source": [
    "```\n",
    "What is the weather forecast for tomorrow?\n",
    "Temperature: 11\n",
    "Will it rain (yes/no): no\n",
    "Wear jeans and a T-shirt\n",
    "I recommend a jumper as well\n",
    "```"
   ]
  },
  {
   "cell_type": "markdown",
   "id": "d477e4ce",
   "metadata": {},
   "source": [
    "```\n",
    "What is the weather forecast for tomorrow?\n",
    "Temperature: 7\n",
    "Will it rain (yes/no): no\n",
    "Wear jeans and a T-shirt\n",
    "I recommend a jumper as well\n",
    "Take a jacket with you\n",
    "```"
   ]
  },
  {
   "cell_type": "markdown",
   "id": "913df04a",
   "metadata": {},
   "source": [
    "```\n",
    "What is the weather forecast for tomorrow?\n",
    "Temperature: 3\n",
    "Will it rain (yes/no): yes\n",
    "Wear jeans and a T-shirt\n",
    "I recommend a jumper as well\n",
    "Take a jacket with you\n",
    "Make it a warm coat, actually\n",
    "I think gloves are in order\n",
    "Don't forget your umbrella!\n",
    "```"
   ]
  },
  {
   "cell_type": "markdown",
   "id": "ac04424d",
   "metadata": {},
   "source": [
    "### Exercise 10 (6 points)"
   ]
  },
  {
   "cell_type": "markdown",
   "id": "e66a3a57",
   "metadata": {},
   "source": [
    "__Solving a quadratic equation__"
   ]
  },
  {
   "cell_type": "markdown",
   "id": "89ddc933",
   "metadata": {},
   "source": [
    "In the Python `math` module there is the function `sqrt()`, which calculates the square root of a number. \n",
    "\n",
    "You can use it like so:"
   ]
  },
  {
   "cell_type": "markdown",
   "id": "1bd1b63d",
   "metadata": {},
   "source": [
    "``` python\n",
    "from math import sqrt\n",
    "\n",
    "print(sqrt(9))\n",
    "\n",
    "```"
   ]
  },
  {
   "cell_type": "markdown",
   "id": "0b5a15fd",
   "metadata": {},
   "source": [
    "This should print out"
   ]
  },
  {
   "cell_type": "markdown",
   "id": "8e2fa5db",
   "metadata": {},
   "source": [
    "```\n",
    "30\n",
    "```"
   ]
  },
  {
   "cell_type": "markdown",
   "id": "e3fbf476",
   "metadata": {},
   "source": [
    "\n",
    "We will return to the concept of a module and the import statement later. \n",
    "\n",
    "For now, it is sufficient to understand that the line `from math import sqrt` allows us to use the `sqrt` function in our program.\n",
    "\n",
    "Please write a program for solving a quadratic equation of the form \n",
    "\n",
    "$$\n",
    "  ax^2+bx+c\n",
    "$$ \n",
    "\n",
    "The program asks for values `a`, `b` and `c`. \n",
    "\n",
    "It should then use the __quadratic formula__ to solve the equation. \n",
    "\n",
    "The quadratic formula expressed with the Python `sqrt` function is as follows:"
   ]
  },
  {
   "cell_type": "markdown",
   "id": "1ed563a8",
   "metadata": {},
   "source": [
    "$$\n",
    "x = \\frac{-b ± sqrt(b^2-4ac)}{2a}.\n",
    "$$"
   ]
  },
  {
   "cell_type": "markdown",
   "id": "079343a2",
   "metadata": {},
   "source": [
    "You can assume the equation will always have two real roots, so the above formula will always work.\n",
    "\n",
    "An example of expected behaviour:"
   ]
  },
  {
   "cell_type": "markdown",
   "id": "1c871155",
   "metadata": {},
   "source": [
    "```\n",
    "Value of a: 1\n",
    "Value of b: 2\n",
    "Value of c: -8\n",
    "\n",
    "The roots are 2.0 and -4.0\n",
    "```"
   ]
  }
 ],
 "metadata": {
  "kernelspec": {
   "display_name": "Python 3 (ipykernel)",
   "language": "python",
   "name": "python3"
  },
  "language_info": {
   "codemirror_mode": {
    "name": "ipython",
    "version": 3
   },
   "file_extension": ".py",
   "mimetype": "text/x-python",
   "name": "python",
   "nbconvert_exporter": "python",
   "pygments_lexer": "ipython3",
   "version": "3.10.9"
  }
 },
 "nbformat": 4,
 "nbformat_minor": 5
}
